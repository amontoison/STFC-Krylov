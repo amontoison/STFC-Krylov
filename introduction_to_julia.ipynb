{
 "cells": [
  {
   "cell_type": "markdown",
   "metadata": {
    "slideshow": {
     "slide_type": "slide"
    }
   },
   "source": [
    "## Introduction to Julia\n",
    "\n",
    "_STFC-Rutherford Appleton Laboratory, England_\n",
    "\n",
    "_Thursday December 8, 2022_\n",
    "\n",
    "**_Alexis Montoison_** (alexis.montoison@polymtl.ca)"
   ]
  },
  {
   "cell_type": "markdown",
   "metadata": {},
   "source": [
    "* How to use Julia\n",
    "* Basic syntax and types\n",
    "* Control flow\n",
    "* Functions\n",
    "* More on types\n",
    "* Linear algebra\n",
    "* Package management\n",
    "* Advanced features"
   ]
  },
  {
   "cell_type": "markdown",
   "metadata": {
    "slideshow": {
     "slide_type": "slide"
    }
   },
   "source": [
    "## How to use Julia"
   ]
  },
  {
   "cell_type": "markdown",
   "metadata": {
    "slideshow": {
     "slide_type": "subslide"
    }
   },
   "source": [
    "### REPL\n",
    "\n",
    "The Read-Eval-Print-Loop (REPL) is the julia interactive shell\n",
    "\n",
    "```bash\n",
    "julia\n",
    "```"
   ]
  },
  {
   "cell_type": "markdown",
   "metadata": {
    "slideshow": {
     "slide_type": "fragment"
    }
   },
   "source": [
    "<img src=\"img/REPL.png\">"
   ]
  },
  {
   "cell_type": "markdown",
   "metadata": {
    "slideshow": {
     "slide_type": "subslide"
    }
   },
   "source": [
    "### Command line"
   ]
  },
  {
   "cell_type": "markdown",
   "metadata": {
    "slideshow": {
     "slide_type": "fragment"
    }
   },
   "source": [
    "You can execute a julia script from the command line\n",
    "```bash\n",
    "julia script.jl\n",
    "```"
   ]
  },
  {
   "cell_type": "markdown",
   "metadata": {
    "slideshow": {
     "slide_type": "fragment"
    }
   },
   "source": [
    "To pass command line arguments\n",
    "```bash\n",
    "julia script.jl arg1 arg2 arg3\n",
    "```\n",
    "Command-line arguments are accessed within julia via the variable `ARGS`."
   ]
  },
  {
   "cell_type": "markdown",
   "metadata": {
    "slideshow": {
     "slide_type": "subslide"
    }
   },
   "source": [
    "### Jupyter"
   ]
  },
  {
   "cell_type": "markdown",
   "metadata": {
    "slideshow": {
     "slide_type": "fragment"
    }
   },
   "source": [
    "Julia is the \"Ju\" in \"Jupyter\"!\n",
    "\n",
    "To run Julia in a notebook:"
   ]
  },
  {
   "cell_type": "markdown",
   "metadata": {
    "slideshow": {
     "slide_type": "fragment"
    }
   },
   "source": [
    "* Install Jupyter (e.g. via Anaconda)\n",
    "* Install the `IJulia` package\n",
    "* Launch Jupyter"
   ]
  },
  {
   "cell_type": "markdown",
   "metadata": {
    "slideshow": {
     "slide_type": "fragment"
    }
   },
   "source": [
    "(if you skip the Jupyter installation, Julia will install a julia-only `conda` distribution)"
   ]
  },
  {
   "cell_type": "markdown",
   "metadata": {
    "slideshow": {
     "slide_type": "slide"
    }
   },
   "source": [
    "## Basic syntax and types"
   ]
  },
  {
   "cell_type": "markdown",
   "metadata": {
    "slideshow": {
     "slide_type": "subslide"
    }
   },
   "source": [
    "### Basic types"
   ]
  },
  {
   "cell_type": "markdown",
   "metadata": {
    "slideshow": {
     "slide_type": "fragment"
    }
   },
   "source": [
    "Booleans"
   ]
  },
  {
   "cell_type": "code",
   "execution_count": 353,
   "metadata": {
    "slideshow": {
     "slide_type": "-"
    }
   },
   "outputs": [
    {
     "data": {
      "text/plain": [
       "true"
      ]
     },
     "execution_count": 353,
     "metadata": {},
     "output_type": "execute_result"
    }
   ],
   "source": [
    "true"
   ]
  },
  {
   "cell_type": "code",
   "execution_count": 354,
   "metadata": {
    "slideshow": {
     "slide_type": "-"
    }
   },
   "outputs": [
    {
     "data": {
      "text/plain": [
       "Bool"
      ]
     },
     "execution_count": 354,
     "metadata": {},
     "output_type": "execute_result"
    }
   ],
   "source": [
    "typeof(true)"
   ]
  },
  {
   "cell_type": "markdown",
   "metadata": {
    "slideshow": {
     "slide_type": "fragment"
    }
   },
   "source": [
    "Integers"
   ]
  },
  {
   "cell_type": "code",
   "execution_count": 355,
   "metadata": {
    "slideshow": {
     "slide_type": "-"
    }
   },
   "outputs": [
    {
     "data": {
      "text/plain": [
       "2"
      ]
     },
     "execution_count": 355,
     "metadata": {},
     "output_type": "execute_result"
    }
   ],
   "source": [
    "1 + 1"
   ]
  },
  {
   "cell_type": "code",
   "execution_count": 356,
   "metadata": {
    "slideshow": {
     "slide_type": "-"
    }
   },
   "outputs": [
    {
     "data": {
      "text/plain": [
       "Int64"
      ]
     },
     "execution_count": 356,
     "metadata": {},
     "output_type": "execute_result"
    }
   ],
   "source": [
    "typeof(1)"
   ]
  },
  {
   "cell_type": "markdown",
   "metadata": {
    "slideshow": {
     "slide_type": "subslide"
    }
   },
   "source": [
    "Floating point"
   ]
  },
  {
   "cell_type": "code",
   "execution_count": 357,
   "metadata": {},
   "outputs": [
    {
     "data": {
      "text/plain": [
       "3.0"
      ]
     },
     "execution_count": 357,
     "metadata": {},
     "output_type": "execute_result"
    }
   ],
   "source": [
    "1.0 + 2.0"
   ]
  },
  {
   "cell_type": "code",
   "execution_count": 358,
   "metadata": {},
   "outputs": [
    {
     "data": {
      "text/plain": [
       "Float64"
      ]
     },
     "execution_count": 358,
     "metadata": {},
     "output_type": "execute_result"
    }
   ],
   "source": [
    "typeof(1.0)"
   ]
  },
  {
   "cell_type": "markdown",
   "metadata": {
    "slideshow": {
     "slide_type": "fragment"
    }
   },
   "source": [
    "Floating-point arithmetic has limited precision!"
   ]
  },
  {
   "cell_type": "code",
   "execution_count": 359,
   "metadata": {
    "slideshow": {
     "slide_type": "-"
    }
   },
   "outputs": [
    {
     "data": {
      "text/plain": [
       "true"
      ]
     },
     "execution_count": 359,
     "metadata": {},
     "output_type": "execute_result"
    }
   ],
   "source": [
    "(1.0 + 1e-16) == 1.0"
   ]
  },
  {
   "cell_type": "code",
   "execution_count": 360,
   "metadata": {
    "slideshow": {
     "slide_type": "-"
    }
   },
   "outputs": [
    {
     "data": {
      "text/plain": [
       "false"
      ]
     },
     "execution_count": 360,
     "metadata": {},
     "output_type": "execute_result"
    }
   ],
   "source": [
    "(1.0 + 1e-16) - 1e-16 == 1.0 + (1e-16 - 1e-16)"
   ]
  },
  {
   "cell_type": "markdown",
   "metadata": {
    "slideshow": {
     "slide_type": "subslide"
    }
   },
   "source": [
    "Type correspondence:\n",
    "\n",
    "| Julia   | C       |\n",
    "|:-------:|:-------:|\n",
    "| Int32   | int     |\n",
    "| Int64   | long    | \n",
    "| Float32 | float   |\n",
    "| Float64 | double  |"
   ]
  },
  {
   "cell_type": "markdown",
   "metadata": {
    "slideshow": {
     "slide_type": "subslide"
    }
   },
   "source": [
    "Strings are defined with double quotes"
   ]
  },
  {
   "cell_type": "code",
   "execution_count": 361,
   "metadata": {},
   "outputs": [
    {
     "data": {
      "text/plain": [
       "\"Hello world!\""
      ]
     },
     "execution_count": 361,
     "metadata": {},
     "output_type": "execute_result"
    }
   ],
   "source": [
    "\"Hello world!\""
   ]
  },
  {
   "cell_type": "markdown",
   "metadata": {
    "slideshow": {
     "slide_type": "fragment"
    }
   },
   "source": [
    "Concatenate strings with `*`"
   ]
  },
  {
   "cell_type": "code",
   "execution_count": 362,
   "metadata": {},
   "outputs": [
    {
     "data": {
      "text/plain": [
       "\"Hello world!\""
      ]
     },
     "execution_count": 362,
     "metadata": {},
     "output_type": "execute_result"
    }
   ],
   "source": [
    "\"Hello\" * \" \" * \"world!\""
   ]
  },
  {
   "cell_type": "markdown",
   "metadata": {
    "slideshow": {
     "slide_type": "fragment"
    }
   },
   "source": [
    "String interpolation eases the need for concatenation"
   ]
  },
  {
   "cell_type": "code",
   "execution_count": 363,
   "metadata": {},
   "outputs": [
    {
     "data": {
      "text/plain": [
       "\"Hello Alice, Bob and Charles!\""
      ]
     },
     "execution_count": 363,
     "metadata": {},
     "output_type": "execute_result"
    }
   ],
   "source": [
    "x, y, z = \"Alice\", \"Bob\", \"Charles\"\n",
    "\"Hello $(x), $y and $(z)!\""
   ]
  },
  {
   "cell_type": "markdown",
   "metadata": {
    "slideshow": {
     "slide_type": "subslide"
    }
   },
   "source": [
    "Symbols are human-readable unique identifiers"
   ]
  },
  {
   "cell_type": "code",
   "execution_count": 364,
   "metadata": {},
   "outputs": [
    {
     "data": {
      "text/plain": [
       "Symbol"
      ]
     },
     "execution_count": 364,
     "metadata": {},
     "output_type": "execute_result"
    }
   ],
   "source": [
    ":symbol\n",
    "typeof(:symbol)"
   ]
  },
  {
   "cell_type": "markdown",
   "metadata": {
    "slideshow": {
     "slide_type": "subslide"
    }
   },
   "source": [
    "### Elementary data structures"
   ]
  },
  {
   "cell_type": "markdown",
   "metadata": {
    "slideshow": {
     "slide_type": "-"
    }
   },
   "source": [
    "Tuples are immutable collections of values"
   ]
  },
  {
   "cell_type": "code",
   "execution_count": 365,
   "metadata": {},
   "outputs": [
    {
     "data": {
      "text/plain": [
       "(\"hello\", 1, :x)"
      ]
     },
     "execution_count": 365,
     "metadata": {},
     "output_type": "execute_result"
    }
   ],
   "source": [
    "t1 = (1, 2, 3)\n",
    "t2 = (\"hello\", 1, :x)"
   ]
  },
  {
   "cell_type": "code",
   "execution_count": 366,
   "metadata": {},
   "outputs": [
    {
     "data": {
      "text/plain": [
       "Tuple{Int64, Int64, Int64}"
      ]
     },
     "execution_count": 366,
     "metadata": {},
     "output_type": "execute_result"
    }
   ],
   "source": [
    "typeof(t1)"
   ]
  },
  {
   "cell_type": "code",
   "execution_count": 367,
   "metadata": {},
   "outputs": [
    {
     "data": {
      "text/plain": [
       "Tuple{String, Int64, Symbol}"
      ]
     },
     "execution_count": 367,
     "metadata": {},
     "output_type": "execute_result"
    }
   ],
   "source": [
    "typeof(t2)"
   ]
  },
  {
   "cell_type": "markdown",
   "metadata": {
    "slideshow": {
     "slide_type": "subslide"
    }
   },
   "source": [
    "Arrays are collections of values **of the same type** that are stored contiguously in memory."
   ]
  },
  {
   "cell_type": "code",
   "execution_count": 368,
   "metadata": {},
   "outputs": [
    {
     "data": {
      "text/plain": [
       "3-element Vector{Int64}:\n",
       " 1\n",
       " 2\n",
       " 3"
      ]
     },
     "execution_count": 368,
     "metadata": {},
     "output_type": "execute_result"
    }
   ],
   "source": [
    "u = [1, 2, 3]"
   ]
  },
  {
   "cell_type": "code",
   "execution_count": 369,
   "metadata": {},
   "outputs": [
    {
     "data": {
      "text/plain": [
       "Vector{Int64}\u001b[90m (alias for \u001b[39m\u001b[90mArray{Int64, 1}\u001b[39m\u001b[90m)\u001b[39m"
      ]
     },
     "execution_count": 369,
     "metadata": {},
     "output_type": "execute_result"
    }
   ],
   "source": [
    "typeof(u)"
   ]
  },
  {
   "cell_type": "markdown",
   "metadata": {
    "slideshow": {
     "slide_type": "fragment"
    }
   },
   "source": [
    "**/!\\ Array indexing starts at 1 /!\\**"
   ]
  },
  {
   "cell_type": "code",
   "execution_count": 370,
   "metadata": {},
   "outputs": [
    {
     "data": {
      "text/plain": [
       "1"
      ]
     },
     "execution_count": 370,
     "metadata": {},
     "output_type": "execute_result"
    }
   ],
   "source": [
    "u[1]"
   ]
  },
  {
   "cell_type": "markdown",
   "metadata": {
    "slideshow": {
     "slide_type": "subslide"
    }
   },
   "source": [
    "Elements automatically get promoted to the same type if necessary"
   ]
  },
  {
   "cell_type": "code",
   "execution_count": 371,
   "metadata": {},
   "outputs": [
    {
     "data": {
      "text/plain": [
       "3-element Vector{Float64}:\n",
       " 1.0\n",
       " 2.0\n",
       " 3.0"
      ]
     },
     "execution_count": 371,
     "metadata": {},
     "output_type": "execute_result"
    }
   ],
   "source": [
    "v = [1.0, 2, 3]"
   ]
  },
  {
   "cell_type": "code",
   "execution_count": 372,
   "metadata": {},
   "outputs": [
    {
     "data": {
      "text/plain": [
       "Vector{Float64}\u001b[90m (alias for \u001b[39m\u001b[90mArray{Float64, 1}\u001b[39m\u001b[90m)\u001b[39m"
      ]
     },
     "execution_count": 372,
     "metadata": {},
     "output_type": "execute_result"
    }
   ],
   "source": [
    "typeof(v)"
   ]
  },
  {
   "cell_type": "markdown",
   "metadata": {
    "slideshow": {
     "slide_type": "subslide"
    }
   },
   "source": [
    "If no common type can be inferred, the element type is `Any`"
   ]
  },
  {
   "cell_type": "code",
   "execution_count": 373,
   "metadata": {
    "slideshow": {
     "slide_type": "-"
    }
   },
   "outputs": [
    {
     "data": {
      "text/plain": [
       "3-element Vector{Any}:\n",
       "  \"hello\"\n",
       " 1\n",
       "  :x"
      ]
     },
     "execution_count": 373,
     "metadata": {},
     "output_type": "execute_result"
    }
   ],
   "source": [
    "w = [\"hello\", 1, :x]"
   ]
  },
  {
   "cell_type": "code",
   "execution_count": 374,
   "metadata": {},
   "outputs": [
    {
     "data": {
      "text/plain": [
       "Vector{Any}\u001b[90m (alias for \u001b[39m\u001b[90mArray{Any, 1}\u001b[39m\u001b[90m)\u001b[39m"
      ]
     },
     "execution_count": 374,
     "metadata": {},
     "output_type": "execute_result"
    }
   ],
   "source": [
    "typeof(w)"
   ]
  },
  {
   "cell_type": "markdown",
   "metadata": {
    "slideshow": {
     "slide_type": "subslide"
    }
   },
   "source": [
    "Dictionnaries"
   ]
  },
  {
   "cell_type": "code",
   "execution_count": 375,
   "metadata": {},
   "outputs": [
    {
     "data": {
      "text/plain": [
       "Dict{String, Int64} with 3 entries:\n",
       "  \"c\" => 3\n",
       "  \"b\" => 2\n",
       "  \"a\" => 1"
      ]
     },
     "execution_count": 375,
     "metadata": {},
     "output_type": "execute_result"
    }
   ],
   "source": [
    "d = Dict(\"a\" => 1, \"b\" => 2, \"c\" => 3)"
   ]
  },
  {
   "cell_type": "code",
   "execution_count": 376,
   "metadata": {},
   "outputs": [
    {
     "data": {
      "text/plain": [
       "1"
      ]
     },
     "execution_count": 376,
     "metadata": {},
     "output_type": "execute_result"
    }
   ],
   "source": [
    "d[\"a\"]"
   ]
  },
  {
   "cell_type": "code",
   "execution_count": 377,
   "metadata": {},
   "outputs": [
    {
     "data": {
      "text/plain": [
       "Dict{String, Int64} with 3 entries:\n",
       "  \"c\" => 3\n",
       "  \"b\" => 2\n",
       "  \"a\" => 2"
      ]
     },
     "execution_count": 377,
     "metadata": {},
     "output_type": "execute_result"
    }
   ],
   "source": [
    "d[\"a\"] = 2\n",
    "d"
   ]
  },
  {
   "cell_type": "code",
   "execution_count": 378,
   "metadata": {},
   "outputs": [
    {
     "data": {
      "text/plain": [
       "4"
      ]
     },
     "execution_count": 378,
     "metadata": {},
     "output_type": "execute_result"
    }
   ],
   "source": [
    "d[\"d\"] = 4"
   ]
  },
  {
   "cell_type": "markdown",
   "metadata": {
    "slideshow": {
     "slide_type": "slide"
    }
   },
   "source": [
    "## Control flow"
   ]
  },
  {
   "cell_type": "markdown",
   "metadata": {
    "slideshow": {
     "slide_type": "subslide"
    }
   },
   "source": [
    "### If-then-else"
   ]
  },
  {
   "cell_type": "code",
   "execution_count": 379,
   "metadata": {},
   "outputs": [
    {
     "name": "stdout",
     "output_type": "stream",
     "text": [
      "Hello x\n"
     ]
    }
   ],
   "source": [
    "if x == 0\n",
    "    println(\"Hello 0!\")\n",
    "elseif x == 1\n",
    "    println(\"Hello 1!\")\n",
    "elseif x == -1\n",
    "    println(\"Hello -1!\")\n",
    "else\n",
    "    println(\"Hello x\")\n",
    "end "
   ]
  },
  {
   "cell_type": "markdown",
   "metadata": {
    "slideshow": {
     "slide_type": "subslide"
    }
   },
   "source": [
    "### For loops"
   ]
  },
  {
   "cell_type": "code",
   "execution_count": 380,
   "metadata": {},
   "outputs": [
    {
     "name": "stdout",
     "output_type": "stream",
     "text": [
      "Hello 1!\n",
      "Hello 2!\n",
      "Hello 3!\n",
      "Hello 4!\n",
      "Hello 5!\n"
     ]
    }
   ],
   "source": [
    "for i in 1:5\n",
    "    println(\"Hello $(i)!\")\n",
    "end"
   ]
  },
  {
   "cell_type": "markdown",
   "metadata": {
    "slideshow": {
     "slide_type": "subslide"
    }
   },
   "source": [
    "Iterate over arrays"
   ]
  },
  {
   "cell_type": "code",
   "execution_count": 381,
   "metadata": {
    "slideshow": {
     "slide_type": "-"
    }
   },
   "outputs": [
    {
     "name": "stdout",
     "output_type": "stream",
     "text": [
      "1\n",
      "4\n",
      "9\n",
      "16\n"
     ]
    }
   ],
   "source": [
    "u = [1, 4, 9, 16]\n",
    "for x in u\n",
    "    println(x)\n",
    "end"
   ]
  },
  {
   "cell_type": "markdown",
   "metadata": {
    "slideshow": {
     "slide_type": "fragment"
    }
   },
   "source": [
    "Iterate over dictionnaries"
   ]
  },
  {
   "cell_type": "code",
   "execution_count": 382,
   "metadata": {
    "slideshow": {
     "slide_type": "-"
    }
   },
   "outputs": [
    {
     "name": "stdout",
     "output_type": "stream",
     "text": [
      "Key: c, val: 3\n",
      "Key: b, val: 2\n",
      "Key: a, val: 1\n"
     ]
    }
   ],
   "source": [
    "d = Dict(\"a\" => 1, \"b\" => 2, \"c\" => 3)\n",
    "for (key, val) in d\n",
    "    println(\"Key: $key, val: $val\")\n",
    "end"
   ]
  },
  {
   "cell_type": "markdown",
   "metadata": {
    "slideshow": {
     "slide_type": "-"
    }
   },
   "source": [
    "More generally: **iterate over any collection**"
   ]
  },
  {
   "cell_type": "markdown",
   "metadata": {
    "slideshow": {
     "slide_type": "subslide"
    }
   },
   "source": [
    "### Comprehensions"
   ]
  },
  {
   "cell_type": "markdown",
   "metadata": {},
   "source": [
    "Build a list of increasing integers"
   ]
  },
  {
   "cell_type": "code",
   "execution_count": 383,
   "metadata": {},
   "outputs": [
    {
     "data": {
      "text/plain": [
       "4-element Vector{Int64}:\n",
       " 1\n",
       " 2\n",
       " 3\n",
       " 4"
      ]
     },
     "execution_count": 383,
     "metadata": {},
     "output_type": "execute_result"
    }
   ],
   "source": [
    "u = [i for i in 1:4]"
   ]
  },
  {
   "cell_type": "code",
   "execution_count": 384,
   "metadata": {},
   "outputs": [
    {
     "data": {
      "text/plain": [
       "4-element Vector{Int64}:\n",
       " 1\n",
       " 1\n",
       " 1\n",
       " 1"
      ]
     },
     "execution_count": 384,
     "metadata": {},
     "output_type": "execute_result"
    }
   ],
   "source": [
    "v = [1 for _ in 1:4]"
   ]
  },
  {
   "cell_type": "markdown",
   "metadata": {
    "slideshow": {
     "slide_type": "subslide"
    }
   },
   "source": [
    "Build a matrix"
   ]
  },
  {
   "cell_type": "code",
   "execution_count": 385,
   "metadata": {},
   "outputs": [
    {
     "data": {
      "text/plain": [
       "4×4 Matrix{Int64}:\n",
       " 1  2   3   4\n",
       " 2  4   6   8\n",
       " 3  6   9  12\n",
       " 4  8  12  16"
      ]
     },
     "execution_count": 385,
     "metadata": {},
     "output_type": "execute_result"
    }
   ],
   "source": [
    "A = [i*j for i in 1:4, j in 1:4]"
   ]
  },
  {
   "cell_type": "markdown",
   "metadata": {
    "slideshow": {
     "slide_type": "subslide"
    }
   },
   "source": [
    "Filter out some values"
   ]
  },
  {
   "cell_type": "code",
   "execution_count": 386,
   "metadata": {},
   "outputs": [
    {
     "data": {
      "text/plain": [
       "5-element Vector{Int64}:\n",
       " 1\n",
       " 3\n",
       " 5\n",
       " 7\n",
       " 9"
      ]
     },
     "execution_count": 386,
     "metadata": {},
     "output_type": "execute_result"
    }
   ],
   "source": [
    "v = [i for i in 1:10 if i % 2 == 1]  # odd integers between 1 and 10"
   ]
  },
  {
   "cell_type": "markdown",
   "metadata": {
    "slideshow": {
     "slide_type": "subslide"
    }
   },
   "source": [
    "Dictionnaries"
   ]
  },
  {
   "cell_type": "code",
   "execution_count": 387,
   "metadata": {},
   "outputs": [
    {
     "data": {
      "text/plain": [
       "Dict{String, Int64} with 5 entries:\n",
       "  \"4\" => 16\n",
       "  \"1\" => 1\n",
       "  \"5\" => 25\n",
       "  \"2\" => 4\n",
       "  \"3\" => 9"
      ]
     },
     "execution_count": 387,
     "metadata": {},
     "output_type": "execute_result"
    }
   ],
   "source": [
    "d = Dict(\"$i\" => i^2 for i in 1:5)"
   ]
  },
  {
   "cell_type": "markdown",
   "metadata": {
    "slideshow": {
     "slide_type": "slide"
    }
   },
   "source": [
    "## Functions"
   ]
  },
  {
   "cell_type": "markdown",
   "metadata": {
    "slideshow": {
     "slide_type": "subslide"
    }
   },
   "source": [
    "To define a function:"
   ]
  },
  {
   "cell_type": "code",
   "execution_count": 388,
   "metadata": {},
   "outputs": [
    {
     "name": "stdout",
     "output_type": "stream",
     "text": [
      "Hello world!\n"
     ]
    }
   ],
   "source": [
    "function print_hello()\n",
    "    println(\"Hello world!\")\n",
    "end\n",
    "print_hello()"
   ]
  },
  {
   "cell_type": "markdown",
   "metadata": {
    "slideshow": {
     "slide_type": "subslide"
    }
   },
   "source": [
    "Functions can have arguments"
   ]
  },
  {
   "cell_type": "code",
   "execution_count": 389,
   "metadata": {},
   "outputs": [
    {
     "name": "stdout",
     "output_type": "stream",
     "text": [
      "Hello\n",
      "1\n",
      "[1, 2]\n",
      "47.0\n"
     ]
    }
   ],
   "source": [
    "function print_it(x, y)\n",
    "    println(x)\n",
    "    println(y)\n",
    "end\n",
    "print_it(\"Hello\", 1)\n",
    "print_it([1, 2], 47.0)"
   ]
  },
  {
   "cell_type": "markdown",
   "metadata": {
    "slideshow": {
     "slide_type": "subslide"
    }
   },
   "source": [
    "Optional arguments are possible"
   ]
  },
  {
   "cell_type": "code",
   "execution_count": 390,
   "metadata": {},
   "outputs": [
    {
     "name": "stdout",
     "output_type": "stream",
     "text": [
      "Value : 3.1415\n",
      "π = 3.1415\n"
     ]
    }
   ],
   "source": [
    "function print_info(x; prefix=\"Value : \")\n",
    "    println(\"$(prefix)$x\")\n",
    "end\n",
    "print_info(3.1415)\n",
    "print_info(3.1415, prefix=\"π = \")"
   ]
  },
  {
   "cell_type": "markdown",
   "metadata": {
    "slideshow": {
     "slide_type": "subslide"
    }
   },
   "source": [
    "The return value of a function is specified with the keyword `return`"
   ]
  },
  {
   "cell_type": "code",
   "execution_count": 391,
   "metadata": {},
   "outputs": [
    {
     "data": {
      "text/plain": [
       "2"
      ]
     },
     "execution_count": 391,
     "metadata": {},
     "output_type": "execute_result"
    }
   ],
   "source": [
    "function my_mul(x, y)\n",
    "    return x * y\n",
    "end\n",
    "my_mul(1, 2)"
   ]
  },
  {
   "cell_type": "markdown",
   "metadata": {},
   "source": [
    "Otherwise, the function returns the result of the last expression"
   ]
  },
  {
   "cell_type": "markdown",
   "metadata": {
    "slideshow": {
     "slide_type": "subslide"
    }
   },
   "source": [
    "Docstrings are written before the body of the function, and start/end with `\"\"\"`.\n",
    "You can use Markdown syntax within docstrings."
   ]
  },
  {
   "cell_type": "code",
   "execution_count": 392,
   "metadata": {},
   "outputs": [
    {
     "data": {
      "text/plain": [
       "my_mul"
      ]
     },
     "execution_count": 392,
     "metadata": {},
     "output_type": "execute_result"
    }
   ],
   "source": [
    "\"\"\"\n",
    "    my_mul(x, y, z)\n",
    "\n",
    "Compute the product `x*y*z`\n",
    "\"\"\"\n",
    "function my_mul(x, y, z)\n",
    "    return x * y * z\n",
    "end"
   ]
  },
  {
   "cell_type": "markdown",
   "metadata": {},
   "source": [
    "Always write docstrings!"
   ]
  },
  {
   "cell_type": "markdown",
   "metadata": {
    "slideshow": {
     "slide_type": "subslide"
    }
   },
   "source": [
    "### Getting help"
   ]
  },
  {
   "cell_type": "markdown",
   "metadata": {},
   "source": [
    "You can display a function's docstring by pre-prending `?` to its name"
   ]
  },
  {
   "cell_type": "code",
   "execution_count": 393,
   "metadata": {},
   "outputs": [
    {
     "name": "stdout",
     "output_type": "stream",
     "text": [
      "search: \u001b[0m\u001b[1mm\u001b[22m\u001b[0m\u001b[1my\u001b[22m\u001b[0m\u001b[1m_\u001b[22m\u001b[0m\u001b[1mm\u001b[22m\u001b[0m\u001b[1mu\u001b[22m\u001b[0m\u001b[1ml\u001b[22m\n",
      "\n"
     ]
    },
    {
     "data": {
      "text/latex": [
       "\\begin{verbatim}\n",
       "my_mul(x, y, z)\n",
       "\\end{verbatim}\n",
       "Compute the product \\texttt{x*y*z}\n",
       "\n"
      ],
      "text/markdown": [
       "```\n",
       "my_mul(x, y, z)\n",
       "```\n",
       "\n",
       "Compute the product `x*y*z`\n"
      ],
      "text/plain": [
       "  \u001b[38;5;81mmy_mul\u001b[0m(\u001b[0m\u001b[39mx\u001b[0m\u001b[39m,\u001b[0m \u001b[0m\u001b[39my\u001b[0m\u001b[39m,\u001b[0m \u001b[0m\u001b[39mz\u001b[0m\u001b[39m)\u001b[0m\u001b[39m\u001b[0m\n",
       "\n",
       "\n",
       "  Compute the product \u001b[36mx*y*z\u001b[39m"
      ]
     },
     "execution_count": 393,
     "metadata": {},
     "output_type": "execute_result"
    }
   ],
   "source": [
    "?my_mul"
   ]
  },
  {
   "cell_type": "markdown",
   "metadata": {
    "slideshow": {
     "slide_type": "slide"
    }
   },
   "source": [
    "## More on types"
   ]
  },
  {
   "cell_type": "markdown",
   "metadata": {},
   "source": [
    "Everything in Julia has a type.\n",
    "\n",
    "You don't **need** to specify types when declaring variables or function arguments... but sometimes it helps."
   ]
  },
  {
   "cell_type": "markdown",
   "metadata": {
    "slideshow": {
     "slide_type": "subslide"
    }
   },
   "source": [
    "To avoid errors"
   ]
  },
  {
   "cell_type": "code",
   "execution_count": 394,
   "metadata": {},
   "outputs": [
    {
     "data": {
      "text/plain": [
       "3628800"
      ]
     },
     "execution_count": 394,
     "metadata": {},
     "output_type": "execute_result"
    }
   ],
   "source": [
    "\"\"\"\n",
    "    my_fact(n)\n",
    "\n",
    "Compute the factorial of `n`, i.e., `1*2*...*(n-1)*n`.\n",
    "\"\"\"\n",
    "function my_fact(n)\n",
    "    if n == 1\n",
    "        return 1\n",
    "    else\n",
    "        return n * my_fact(n - 1)\n",
    "    end\n",
    "end\n",
    "my_fact(10)"
   ]
  },
  {
   "cell_type": "code",
   "execution_count": 395,
   "metadata": {},
   "outputs": [
    {
     "ename": "LoadError",
     "evalue": "StackOverflowError:",
     "output_type": "error",
     "traceback": [
      "StackOverflowError:",
      "",
      "Stacktrace:",
      " [1] my_fact(n::Float64) (repeats 79984 times)",
      "   @ Main ./In[394]:10"
     ]
    }
   ],
   "source": [
    "my_fact(1.5)"
   ]
  },
  {
   "cell_type": "markdown",
   "metadata": {
    "slideshow": {
     "slide_type": "subslide"
    }
   },
   "source": [
    "## Declaring your own types"
   ]
  },
  {
   "cell_type": "markdown",
   "metadata": {
    "slideshow": {
     "slide_type": "-"
    }
   },
   "source": [
    "### Abstract types"
   ]
  },
  {
   "cell_type": "code",
   "execution_count": 396,
   "metadata": {},
   "outputs": [],
   "source": [
    "abstract type AbstractFoo end"
   ]
  },
  {
   "cell_type": "markdown",
   "metadata": {},
   "source": [
    "Abstract types\n",
    "* cannot have attributes\n",
    "* cannot be instantiated"
   ]
  },
  {
   "cell_type": "code",
   "execution_count": 397,
   "metadata": {},
   "outputs": [
    {
     "ename": "LoadError",
     "evalue": "MethodError: no constructors have been defined for AbstractFoo",
     "output_type": "error",
     "traceback": [
      "MethodError: no constructors have been defined for AbstractFoo",
      "",
      "Stacktrace:",
      " [1] top-level scope",
      "   @ In[397]:1",
      " [2] eval",
      "   @ ./boot.jl:368 [inlined]",
      " [3] include_string(mapexpr::typeof(REPL.softscope), mod::Module, code::String, filename::String)",
      "   @ Base ./loading.jl:1428"
     ]
    }
   ],
   "source": [
    "AbstractFoo()"
   ]
  },
  {
   "cell_type": "markdown",
   "metadata": {
    "slideshow": {
     "slide_type": "subslide"
    }
   },
   "source": [
    "### Immutable types\n",
    "\n",
    "are called `struct` in Julia (like C)"
   ]
  },
  {
   "cell_type": "code",
   "execution_count": 398,
   "metadata": {},
   "outputs": [],
   "source": [
    "struct Foo\n",
    "    x\n",
    "end"
   ]
  },
  {
   "cell_type": "code",
   "execution_count": 399,
   "metadata": {},
   "outputs": [
    {
     "data": {
      "text/plain": [
       "Foo(1.0)"
      ]
     },
     "execution_count": 399,
     "metadata": {},
     "output_type": "execute_result"
    }
   ],
   "source": [
    "foo = Foo(1.0)"
   ]
  },
  {
   "cell_type": "markdown",
   "metadata": {},
   "source": [
    "You cannot modify the attributes of an `immutable` type"
   ]
  },
  {
   "cell_type": "code",
   "execution_count": 400,
   "metadata": {},
   "outputs": [
    {
     "ename": "LoadError",
     "evalue": "setfield!: immutable struct of type Foo cannot be changed",
     "output_type": "error",
     "traceback": [
      "setfield!: immutable struct of type Foo cannot be changed",
      "",
      "Stacktrace:",
      " [1] setproperty!(x::Foo, f::Symbol, v::Int64)",
      "   @ Base ./Base.jl:39",
      " [2] top-level scope",
      "   @ In[400]:1",
      " [3] eval",
      "   @ ./boot.jl:368 [inlined]",
      " [4] include_string(mapexpr::typeof(REPL.softscope), mod::Module, code::String, filename::String)",
      "   @ Base ./loading.jl:1428"
     ]
    }
   ],
   "source": [
    "foo.x = 2"
   ]
  },
  {
   "cell_type": "markdown",
   "metadata": {
    "slideshow": {
     "slide_type": "subslide"
    }
   },
   "source": [
    "### Mutable types\n",
    "\n",
    "are `struct`s whose attributes can be modified."
   ]
  },
  {
   "cell_type": "code",
   "execution_count": 401,
   "metadata": {},
   "outputs": [],
   "source": [
    "mutable struct FooBar\n",
    "    x\n",
    "end"
   ]
  },
  {
   "cell_type": "code",
   "execution_count": 402,
   "metadata": {},
   "outputs": [
    {
     "data": {
      "text/plain": [
       "FooBar"
      ]
     },
     "execution_count": 402,
     "metadata": {},
     "output_type": "execute_result"
    }
   ],
   "source": [
    "foo = FooBar(1.0)\n",
    "typeof(foo)"
   ]
  },
  {
   "cell_type": "code",
   "execution_count": 403,
   "metadata": {},
   "outputs": [
    {
     "data": {
      "text/plain": [
       "2"
      ]
     },
     "execution_count": 403,
     "metadata": {},
     "output_type": "execute_result"
    }
   ],
   "source": [
    "foo.x = 2"
   ]
  },
  {
   "cell_type": "markdown",
   "metadata": {
    "slideshow": {
     "slide_type": "subslide"
    }
   },
   "source": [
    "### Parametrized types\n",
    "\n",
    "Types can be parametrized by other types"
   ]
  },
  {
   "cell_type": "code",
   "execution_count": 404,
   "metadata": {},
   "outputs": [
    {
     "data": {
      "text/plain": [
       "Vector\u001b[90m (alias for \u001b[39m\u001b[90mArray{T, 1} where T\u001b[39m\u001b[90m)\u001b[39m"
      ]
     },
     "execution_count": 404,
     "metadata": {},
     "output_type": "execute_result"
    }
   ],
   "source": [
    "Vector"
   ]
  },
  {
   "cell_type": "markdown",
   "metadata": {
    "slideshow": {
     "slide_type": "fragment"
    }
   },
   "source": [
    "You can parametrize by multiple types"
   ]
  },
  {
   "cell_type": "code",
   "execution_count": 405,
   "metadata": {},
   "outputs": [
    {
     "data": {
      "text/plain": [
       "MyFoo{Int64, Float64}"
      ]
     },
     "execution_count": 405,
     "metadata": {},
     "output_type": "execute_result"
    }
   ],
   "source": [
    "struct MyFoo{Ti<:Integer, Tv<:AbstractFloat}\n",
    "    i::Ti\n",
    "    v::Tv\n",
    "end\n",
    "typeof(MyFoo(1, 1.0))"
   ]
  },
  {
   "cell_type": "code",
   "execution_count": 406,
   "metadata": {},
   "outputs": [
    {
     "data": {
      "text/plain": [
       "MyFoo{UInt8, Float32}"
      ]
     },
     "execution_count": 406,
     "metadata": {},
     "output_type": "execute_result"
    }
   ],
   "source": [
    "typeof(MyFoo(0x01, 1.0f0))"
   ]
  },
  {
   "cell_type": "markdown",
   "metadata": {
    "slideshow": {
     "slide_type": "subslide"
    }
   },
   "source": [
    "### What about functions?"
   ]
  },
  {
   "cell_type": "markdown",
   "metadata": {
    "slideshow": {
     "slide_type": "fragment"
    }
   },
   "source": [
    "Functions are not \"attached\" to classes like in object-oriented languages."
   ]
  },
  {
   "cell_type": "markdown",
   "metadata": {
    "slideshow": {
     "slide_type": "fragment"
    }
   },
   "source": [
    "Functions have _methods_ that are dispatched based on the types of **all** arguments: it's called **multiple dispatch**"
   ]
  },
  {
   "cell_type": "code",
   "execution_count": 407,
   "metadata": {
    "slideshow": {
     "slide_type": "fragment"
    }
   },
   "outputs": [
    {
     "data": {
      "text/html": [
       "+(x::<b>T</b>, y::<b>T</b>)<i> where T<:Union{Float16, Float32, Float64}</i> in Base at <a href=\"https://github.com/JuliaLang/julia/tree/0434deb161e17103eabdd7d82b17a1cd6b410572/base/float.jl#L383\" target=\"_blank\">float.jl:383</a>"
      ],
      "text/plain": [
       "+(x::T, y::T) where T<:Union{Float16, Float32, Float64} in Base at float.jl:383"
      ]
     },
     "execution_count": 407,
     "metadata": {},
     "output_type": "execute_result"
    }
   ],
   "source": [
    "@which +(1.0, 1.0)"
   ]
  },
  {
   "cell_type": "code",
   "execution_count": 408,
   "metadata": {
    "slideshow": {
     "slide_type": "-"
    }
   },
   "outputs": [
    {
     "data": {
      "text/html": [
       "+(x::<b>Number</b>, y::<b>Number</b>) in Base at <a href=\"https://github.com/JuliaLang/julia/tree/0434deb161e17103eabdd7d82b17a1cd6b410572/base/promotion.jl#L388\" target=\"_blank\">promotion.jl:388</a>"
      ],
      "text/plain": [
       "+(x::Number, y::Number) in Base at promotion.jl:388"
      ]
     },
     "execution_count": 408,
     "metadata": {},
     "output_type": "execute_result"
    }
   ],
   "source": [
    "@which +(1.0, 1)"
   ]
  },
  {
   "cell_type": "code",
   "execution_count": 409,
   "metadata": {
    "slideshow": {
     "slide_type": "subslide"
    }
   },
   "outputs": [
    {
     "data": {
      "text/plain": [
       "+ (generic function with 206 methods)"
      ]
     },
     "execution_count": 409,
     "metadata": {},
     "output_type": "execute_result"
    }
   ],
   "source": [
    "+"
   ]
  },
  {
   "cell_type": "code",
   "execution_count": 410,
   "metadata": {
    "slideshow": {
     "slide_type": "fragment"
    }
   },
   "outputs": [
    {
     "data": {
      "text/html": [
       "# 206 methods for generic function <b>+</b>:<ul><li> +(x::<b>T</b>, y::<b>T</b>)<i> where T<:Union{Int128, Int16, Int32, Int64, Int8, UInt128, UInt16, UInt32, UInt64, UInt8}</i> in Base at <a href=\"https://github.com/JuliaLang/julia/tree/0434deb161e17103eabdd7d82b17a1cd6b410572/base/int.jl#L87\" target=\"_blank\">int.jl:87</a></li> <li> +(x::<b>T</b>, y::<b>T</b>)<i> where T<:Union{Float16, Float32, Float64}</i> in Base at <a href=\"https://github.com/JuliaLang/julia/tree/0434deb161e17103eabdd7d82b17a1cd6b410572/base/float.jl#L383\" target=\"_blank\">float.jl:383</a></li> <li> +(c::<b>Union{UInt16, UInt32, UInt64, UInt8}</b>, x::<b>BigInt</b>) in Base.GMP at <a href=\"https://github.com/JuliaLang/julia/tree/0434deb161e17103eabdd7d82b17a1cd6b410572/base/gmp.jl#L531\" target=\"_blank\">gmp.jl:531</a></li> <li> +(c::<b>Union{Int16, Int32, Int64, Int8}</b>, x::<b>BigInt</b>) in Base.GMP at <a href=\"https://github.com/JuliaLang/julia/tree/0434deb161e17103eabdd7d82b17a1cd6b410572/base/gmp.jl#L537\" target=\"_blank\">gmp.jl:537</a></li> <li> +(c::<b>Union{UInt16, UInt32, UInt64, UInt8}</b>, x::<b>BigFloat</b>) in Base.MPFR at <a href=\"https://github.com/JuliaLang/julia/tree/0434deb161e17103eabdd7d82b17a1cd6b410572/base/mpfr.jl#L398\" target=\"_blank\">mpfr.jl:398</a></li> <li> +(c::<b>Union{Int16, Int32, Int64, Int8}</b>, x::<b>BigFloat</b>) in Base.MPFR at <a href=\"https://github.com/JuliaLang/julia/tree/0434deb161e17103eabdd7d82b17a1cd6b410572/base/mpfr.jl#L406\" target=\"_blank\">mpfr.jl:406</a></li> <li> +(c::<b>Union{Float16, Float32, Float64}</b>, x::<b>BigFloat</b>) in Base.MPFR at <a href=\"https://github.com/JuliaLang/julia/tree/0434deb161e17103eabdd7d82b17a1cd6b410572/base/mpfr.jl#L414\" target=\"_blank\">mpfr.jl:414</a></li> <li> +(x::<b>Union{Dates.CompoundPeriod, Dates.Period}</b>) in Dates at <a href=\"file:///cache/build/default-amdci5-6/julialang/julia-release-1-dot-8/usr/share/julia/stdlib/v1.8/Dates/src/periods.jl\" target=\"_blank\">/home/alexis/julia/julia-1.8.3/share/julia/stdlib/v1.8/Dates/src/periods.jl:378</a></li> <li> +(r1::<b>StepRangeLen{T, R}</b>, r2::<b>StepRangeLen{T, R}</b>)<i> where {R<:Base.TwicePrecision, T}</i> in Base at <a href=\"https://github.com/JuliaLang/julia/tree/0434deb161e17103eabdd7d82b17a1cd6b410572/base/twiceprecision.jl#L644\" target=\"_blank\">twiceprecision.jl:644</a></li> <li> +(r1::<b>StepRangeLen{T, S}</b>, r2::<b>StepRangeLen{T, S}</b>)<i> where {T, S}</i> in Base at <a href=\"https://github.com/JuliaLang/julia/tree/0434deb161e17103eabdd7d82b17a1cd6b410572/base/range.jl#L1446\" target=\"_blank\">range.jl:1446</a></li> <li> +(F::<b>Hessenberg</b>, J::<b>UniformScaling</b>) in LinearAlgebra at <a href=\"file:///cache/build/default-amdci5-6/julialang/julia-release-1-dot-8/usr/share/julia/stdlib/v1.8/LinearAlgebra/src/hessenberg.jl\" target=\"_blank\">/home/alexis/julia/julia-1.8.3/share/julia/stdlib/v1.8/LinearAlgebra/src/hessenberg.jl:641</a></li> <li> +(A::<b>Symmetric</b>, B::<b>Symmetric</b>) in LinearAlgebra at <a href=\"file:///cache/build/default-amdci5-6/julialang/julia-release-1-dot-8/usr/share/julia/stdlib/v1.8/LinearAlgebra/src/symmetric.jl\" target=\"_blank\">/home/alexis/julia/julia-1.8.3/share/julia/stdlib/v1.8/LinearAlgebra/src/symmetric.jl:469</a></li> <li> +(A::<b>Symmetric</b>, B::<b>SymTridiagonal</b>) in LinearAlgebra at <a href=\"file:///cache/build/default-amdci5-6/julialang/julia-release-1-dot-8/usr/share/julia/stdlib/v1.8/LinearAlgebra/src/symmetric.jl\" target=\"_blank\">/home/alexis/julia/julia-1.8.3/share/julia/stdlib/v1.8/LinearAlgebra/src/symmetric.jl:486</a></li> <li> +(S::<b>Symmetric</b>, D::<b>Diagonal</b>) in LinearAlgebra at <a href=\"file:///cache/build/default-amdci5-6/julialang/julia-release-1-dot-8/usr/share/julia/stdlib/v1.8/LinearAlgebra/src/diagonal.jl\" target=\"_blank\">/home/alexis/julia/julia-1.8.3/share/julia/stdlib/v1.8/LinearAlgebra/src/diagonal.jl:191</a></li> <li> +(A::<b>Symmetric{<:Any, <:AbstractSparseMatrix}</b>, B::<b>AbstractSparseMatrix</b>) in SparseArrays at <a href=\"file:///cache/build/default-amdci5-6/julialang/julia-release-1-dot-8/usr/share/julia/stdlib/v1.8/SparseArrays/src/linalg.jl\" target=\"_blank\">/home/alexis/julia/julia-1.8.3/share/julia/stdlib/v1.8/SparseArrays/src/linalg.jl:15</a></li> <li> +(A::<b>Symmetric</b>, B::<b>AbstractSparseMatrix</b>) in SparseArrays at <a href=\"file:///cache/build/default-amdci5-6/julialang/julia-release-1-dot-8/usr/share/julia/stdlib/v1.8/SparseArrays/src/linalg.jl\" target=\"_blank\">/home/alexis/julia/julia-1.8.3/share/julia/stdlib/v1.8/SparseArrays/src/linalg.jl:18</a></li> <li> +(A::<b>Symmetric{<:Real, <:AbstractSparseMatrix}</b>, B::<b>Hermitian{<:Any, <:AbstractSparseMatrix}</b>) in SparseArrays at <a href=\"file:///cache/build/default-amdci5-6/julialang/julia-release-1-dot-8/usr/share/julia/stdlib/v1.8/SparseArrays/src/linalg.jl\" target=\"_blank\">/home/alexis/julia/julia-1.8.3/share/julia/stdlib/v1.8/SparseArrays/src/linalg.jl:25</a></li> <li> +(A::<b>Symmetric{var\"#s884\", S} where {var\"#s884\"<:Real, S<:(AbstractMatrix{<:var\"#s884\"})}</b>, B::<b>Hermitian</b>) in LinearAlgebra at <a href=\"file:///cache/build/default-amdci5-6/julialang/julia-release-1-dot-8/usr/share/julia/stdlib/v1.8/LinearAlgebra/src/symmetric.jl\" target=\"_blank\">/home/alexis/julia/julia-1.8.3/share/julia/stdlib/v1.8/LinearAlgebra/src/symmetric.jl:484</a></li> <li> +(A::<b>Symmetric{<:Any, <:AbstractSparseMatrix}</b>, B::<b>Hermitian{<:Any, <:AbstractSparseMatrix}</b>) in SparseArrays at <a href=\"file:///cache/build/default-amdci5-6/julialang/julia-release-1-dot-8/usr/share/julia/stdlib/v1.8/SparseArrays/src/linalg.jl\" target=\"_blank\">/home/alexis/julia/julia-1.8.3/share/julia/stdlib/v1.8/SparseArrays/src/linalg.jl:23</a></li> <li> +(x::<b>T</b>, y::<b>Integer</b>)<i> where T<:AbstractChar</i> in Base at <a href=\"https://github.com/JuliaLang/julia/tree/0434deb161e17103eabdd7d82b17a1cd6b410572/base/char.jl#L237\" target=\"_blank\">char.jl:237</a></li> <li> +(A::<b>SparseArrays.AbstractSparseMatrixCSC</b>, B::<b>SparseArrays.AbstractSparseMatrixCSC</b>) in SparseArrays at <a href=\"file:///cache/build/default-amdci5-6/julialang/julia-release-1-dot-8/usr/share/julia/stdlib/v1.8/SparseArrays/src/sparsematrix.jl\" target=\"_blank\">/home/alexis/julia/julia-1.8.3/share/julia/stdlib/v1.8/SparseArrays/src/sparsematrix.jl:1829</a></li> <li> +(A::<b>SparseArrays.AbstractSparseMatrixCSC</b>, B::<b>Array</b>) in SparseArrays at <a href=\"file:///cache/build/default-amdci5-6/julialang/julia-release-1-dot-8/usr/share/julia/stdlib/v1.8/SparseArrays/src/sparsematrix.jl\" target=\"_blank\">/home/alexis/julia/julia-1.8.3/share/julia/stdlib/v1.8/SparseArrays/src/sparsematrix.jl:1832</a></li> <li> +(A::<b>SparseArrays.AbstractSparseMatrixCSC</b>, J::<b>UniformScaling</b>) in SparseArrays at <a href=\"file:///cache/build/default-amdci5-6/julialang/julia-release-1-dot-8/usr/share/julia/stdlib/v1.8/SparseArrays/src/sparsematrix.jl\" target=\"_blank\">/home/alexis/julia/julia-1.8.3/share/julia/stdlib/v1.8/SparseArrays/src/sparsematrix.jl:3821</a></li> <li> +(y::<b>AbstractFloat</b>, x::<b>Bool</b>) in Base at <a href=\"https://github.com/JuliaLang/julia/tree/0434deb161e17103eabdd7d82b17a1cd6b410572/base/bool.jl#L172\" target=\"_blank\">bool.jl:172</a></li> <li> +(r1::<b>OrdinalRange</b>, r2::<b>OrdinalRange</b>) in Base at <a href=\"https://github.com/JuliaLang/julia/tree/0434deb161e17103eabdd7d82b17a1cd6b410572/base/range.jl#L1423\" target=\"_blank\">range.jl:1423</a></li> <li> +(A::<b>BitArray</b>, B::<b>BitArray</b>) in Base at <a href=\"https://github.com/JuliaLang/julia/tree/0434deb161e17103eabdd7d82b17a1cd6b410572/base/bitarray.jl#L1184\" target=\"_blank\">bitarray.jl:1184</a></li> <li> +(x::<b>Base.TwicePrecision</b>, y::<b>Number</b>) in Base at <a href=\"https://github.com/JuliaLang/julia/tree/0434deb161e17103eabdd7d82b17a1cd6b410572/base/twiceprecision.jl#L290\" target=\"_blank\">twiceprecision.jl:290</a></li> <li> +(x::<b>Base.TwicePrecision{T}</b>, y::<b>Base.TwicePrecision{T}</b>)<i> where T</i> in Base at <a href=\"https://github.com/JuliaLang/julia/tree/0434deb161e17103eabdd7d82b17a1cd6b410572/base/twiceprecision.jl#L296\" target=\"_blank\">twiceprecision.jl:296</a></li> <li> +(x::<b>Base.TwicePrecision</b>, y::<b>Base.TwicePrecision</b>) in Base at <a href=\"https://github.com/JuliaLang/julia/tree/0434deb161e17103eabdd7d82b17a1cd6b410572/base/twiceprecision.jl#L301\" target=\"_blank\">twiceprecision.jl:301</a></li> <li> +(A::<b>UnitLowerTriangular</b>, B::<b>LowerTriangular</b>) in LinearAlgebra at <a href=\"file:///cache/build/default-amdci5-6/julialang/julia-release-1-dot-8/usr/share/julia/stdlib/v1.8/LinearAlgebra/src/triangular.jl\" target=\"_blank\">/home/alexis/julia/julia-1.8.3/share/julia/stdlib/v1.8/LinearAlgebra/src/triangular.jl:643</a></li> <li> +(A::<b>UnitLowerTriangular</b>, B::<b>UnitLowerTriangular</b>) in LinearAlgebra at <a href=\"file:///cache/build/default-amdci5-6/julialang/julia-release-1-dot-8/usr/share/julia/stdlib/v1.8/LinearAlgebra/src/triangular.jl\" target=\"_blank\">/home/alexis/julia/julia-1.8.3/share/julia/stdlib/v1.8/LinearAlgebra/src/triangular.jl:645</a></li> <li> +(UL::<b>UnitLowerTriangular</b>, J::<b>UniformScaling</b>) in LinearAlgebra at <a href=\"file:///cache/build/default-amdci5-6/julialang/julia-release-1-dot-8/usr/share/julia/stdlib/v1.8/LinearAlgebra/src/uniformscaling.jl\" target=\"_blank\">/home/alexis/julia/julia-1.8.3/share/julia/stdlib/v1.8/LinearAlgebra/src/uniformscaling.jl:181</a></li> <li> +(A::<b>UnitLowerTriangular</b>, B::<b>Bidiagonal</b>) in LinearAlgebra at <a href=\"file:///cache/build/default-amdci5-6/julialang/julia-release-1-dot-8/usr/share/julia/stdlib/v1.8/LinearAlgebra/src/special.jl\" target=\"_blank\">/home/alexis/julia/julia-1.8.3/share/julia/stdlib/v1.8/LinearAlgebra/src/special.jl:98</a></li> <li> +(x::<b>Rational</b>, y::<b>Integer</b>) in Base at <a href=\"https://github.com/JuliaLang/julia/tree/0434deb161e17103eabdd7d82b17a1cd6b410572/base/rational.jl#L313\" target=\"_blank\">rational.jl:313</a></li> <li> +(A::<b>UpperHessenberg</b>, B::<b>UpperHessenberg</b>) in LinearAlgebra at <a href=\"file:///cache/build/default-amdci5-6/julialang/julia-release-1-dot-8/usr/share/julia/stdlib/v1.8/LinearAlgebra/src/hessenberg.jl\" target=\"_blank\">/home/alexis/julia/julia-1.8.3/share/julia/stdlib/v1.8/LinearAlgebra/src/hessenberg.jl:101</a></li> <li> +(H::<b>UpperHessenberg</b>, x::<b>UniformScaling</b>) in LinearAlgebra at <a href=\"file:///cache/build/default-amdci5-6/julialang/julia-release-1-dot-8/usr/share/julia/stdlib/v1.8/LinearAlgebra/src/hessenberg.jl\" target=\"_blank\">/home/alexis/julia/julia-1.8.3/share/julia/stdlib/v1.8/LinearAlgebra/src/hessenberg.jl:108</a></li> <li> +(H::<b>UpperHessenberg</b>, x::<b>Diagonal</b>) in LinearAlgebra at <a href=\"file:///cache/build/default-amdci5-6/julialang/julia-release-1-dot-8/usr/share/julia/stdlib/v1.8/LinearAlgebra/src/hessenberg.jl\" target=\"_blank\">/home/alexis/julia/julia-1.8.3/share/julia/stdlib/v1.8/LinearAlgebra/src/hessenberg.jl:108</a></li> <li> +(H::<b>UpperHessenberg</b>, x::<b>Bidiagonal</b>) in LinearAlgebra at <a href=\"file:///cache/build/default-amdci5-6/julialang/julia-release-1-dot-8/usr/share/julia/stdlib/v1.8/LinearAlgebra/src/hessenberg.jl\" target=\"_blank\">/home/alexis/julia/julia-1.8.3/share/julia/stdlib/v1.8/LinearAlgebra/src/hessenberg.jl:108</a></li> <li> +(H::<b>UpperHessenberg</b>, x::<b>Tridiagonal</b>) in LinearAlgebra at <a href=\"file:///cache/build/default-amdci5-6/julialang/julia-release-1-dot-8/usr/share/julia/stdlib/v1.8/LinearAlgebra/src/hessenberg.jl\" target=\"_blank\">/home/alexis/julia/julia-1.8.3/share/julia/stdlib/v1.8/LinearAlgebra/src/hessenberg.jl:108</a></li> <li> +(H::<b>UpperHessenberg</b>, x::<b>SymTridiagonal</b>) in LinearAlgebra at <a href=\"file:///cache/build/default-amdci5-6/julialang/julia-release-1-dot-8/usr/share/julia/stdlib/v1.8/LinearAlgebra/src/hessenberg.jl\" target=\"_blank\">/home/alexis/julia/julia-1.8.3/share/julia/stdlib/v1.8/LinearAlgebra/src/hessenberg.jl:108</a></li> <li> +(H::<b>UpperHessenberg</b>, x::<b>UpperTriangular</b>) in LinearAlgebra at <a href=\"file:///cache/build/default-amdci5-6/julialang/julia-release-1-dot-8/usr/share/julia/stdlib/v1.8/LinearAlgebra/src/hessenberg.jl\" target=\"_blank\">/home/alexis/julia/julia-1.8.3/share/julia/stdlib/v1.8/LinearAlgebra/src/hessenberg.jl:108</a></li> <li> +(H::<b>UpperHessenberg</b>, x::<b>UnitUpperTriangular</b>) in LinearAlgebra at <a href=\"file:///cache/build/default-amdci5-6/julialang/julia-release-1-dot-8/usr/share/julia/stdlib/v1.8/LinearAlgebra/src/hessenberg.jl\" target=\"_blank\">/home/alexis/julia/julia-1.8.3/share/julia/stdlib/v1.8/LinearAlgebra/src/hessenberg.jl:108</a></li> <li> +(A::<b>UnitUpperTriangular</b>, B::<b>UpperTriangular</b>) in LinearAlgebra at <a href=\"file:///cache/build/default-amdci5-6/julialang/julia-release-1-dot-8/usr/share/julia/stdlib/v1.8/LinearAlgebra/src/triangular.jl\" target=\"_blank\">/home/alexis/julia/julia-1.8.3/share/julia/stdlib/v1.8/LinearAlgebra/src/triangular.jl:642</a></li> <li> +(A::<b>UnitUpperTriangular</b>, B::<b>UnitUpperTriangular</b>) in LinearAlgebra at <a href=\"file:///cache/build/default-amdci5-6/julialang/julia-release-1-dot-8/usr/share/julia/stdlib/v1.8/LinearAlgebra/src/triangular.jl\" target=\"_blank\">/home/alexis/julia/julia-1.8.3/share/julia/stdlib/v1.8/LinearAlgebra/src/triangular.jl:644</a></li> <li> +(UL::<b>UnitUpperTriangular</b>, J::<b>UniformScaling</b>) in LinearAlgebra at <a href=\"file:///cache/build/default-amdci5-6/julialang/julia-release-1-dot-8/usr/share/julia/stdlib/v1.8/LinearAlgebra/src/uniformscaling.jl\" target=\"_blank\">/home/alexis/julia/julia-1.8.3/share/julia/stdlib/v1.8/LinearAlgebra/src/uniformscaling.jl:181</a></li> <li> +(x::<b>UnitUpperTriangular</b>, H::<b>UpperHessenberg</b>) in LinearAlgebra at <a href=\"file:///cache/build/default-amdci5-6/julialang/julia-release-1-dot-8/usr/share/julia/stdlib/v1.8/LinearAlgebra/src/hessenberg.jl\" target=\"_blank\">/home/alexis/julia/julia-1.8.3/share/julia/stdlib/v1.8/LinearAlgebra/src/hessenberg.jl:109</a></li> <li> +(A::<b>UnitUpperTriangular</b>, B::<b>Bidiagonal</b>) in LinearAlgebra at <a href=\"file:///cache/build/default-amdci5-6/julialang/julia-release-1-dot-8/usr/share/julia/stdlib/v1.8/LinearAlgebra/src/special.jl\" target=\"_blank\">/home/alexis/julia/julia-1.8.3/share/julia/stdlib/v1.8/LinearAlgebra/src/special.jl:98</a></li> <li> +(Da::<b>Diagonal</b>, Db::<b>Diagonal</b>) in LinearAlgebra at <a href=\"file:///cache/build/default-amdci5-6/julialang/julia-release-1-dot-8/usr/share/julia/stdlib/v1.8/LinearAlgebra/src/diagonal.jl\" target=\"_blank\">/home/alexis/julia/julia-1.8.3/share/julia/stdlib/v1.8/LinearAlgebra/src/diagonal.jl:184</a></li> <li> +(D::<b>Diagonal</b>, S::<b>Symmetric</b>) in LinearAlgebra at <a href=\"file:///cache/build/default-amdci5-6/julialang/julia-release-1-dot-8/usr/share/julia/stdlib/v1.8/LinearAlgebra/src/diagonal.jl\" target=\"_blank\">/home/alexis/julia/julia-1.8.3/share/julia/stdlib/v1.8/LinearAlgebra/src/diagonal.jl:188</a></li> <li> +(D::<b>Diagonal{var\"#s885\", V} where {var\"#s885\"<:Real, V<:AbstractVector{var\"#s885\"}}</b>, H::<b>Hermitian</b>) in LinearAlgebra at <a href=\"file:///cache/build/default-amdci5-6/julialang/julia-release-1-dot-8/usr/share/julia/stdlib/v1.8/LinearAlgebra/src/diagonal.jl\" target=\"_blank\">/home/alexis/julia/julia-1.8.3/share/julia/stdlib/v1.8/LinearAlgebra/src/diagonal.jl:194</a></li> <li> +(x::<b>Diagonal</b>, H::<b>UpperHessenberg</b>) in LinearAlgebra at <a href=\"file:///cache/build/default-amdci5-6/julialang/julia-release-1-dot-8/usr/share/julia/stdlib/v1.8/LinearAlgebra/src/hessenberg.jl\" target=\"_blank\">/home/alexis/julia/julia-1.8.3/share/julia/stdlib/v1.8/LinearAlgebra/src/hessenberg.jl:109</a></li> <li> +(A::<b>Diagonal</b>, B::<b>Bidiagonal</b>) in LinearAlgebra at <a href=\"file:///cache/build/default-amdci5-6/julialang/julia-release-1-dot-8/usr/share/julia/stdlib/v1.8/LinearAlgebra/src/special.jl\" target=\"_blank\">/home/alexis/julia/julia-1.8.3/share/julia/stdlib/v1.8/LinearAlgebra/src/special.jl:137</a></li> <li> +(A::<b>Diagonal</b>, B::<b>SymTridiagonal</b>) in LinearAlgebra at <a href=\"file:///cache/build/default-amdci5-6/julialang/julia-release-1-dot-8/usr/share/julia/stdlib/v1.8/LinearAlgebra/src/special.jl\" target=\"_blank\">/home/alexis/julia/julia-1.8.3/share/julia/stdlib/v1.8/LinearAlgebra/src/special.jl:147</a></li> <li> +(A::<b>Diagonal</b>, B::<b>Tridiagonal</b>) in LinearAlgebra at <a href=\"file:///cache/build/default-amdci5-6/julialang/julia-release-1-dot-8/usr/share/julia/stdlib/v1.8/LinearAlgebra/src/special.jl\" target=\"_blank\">/home/alexis/julia/julia-1.8.3/share/julia/stdlib/v1.8/LinearAlgebra/src/special.jl:175</a></li> <li> +(A::<b>Diagonal{var\"#s885\", V} where {var\"#s885\"<:Number, V<:AbstractVector{var\"#s885\"}}</b>, B::<b>UniformScaling</b>) in LinearAlgebra at <a href=\"file:///cache/build/default-amdci5-6/julialang/julia-release-1-dot-8/usr/share/julia/stdlib/v1.8/LinearAlgebra/src/special.jl\" target=\"_blank\">/home/alexis/julia/julia-1.8.3/share/julia/stdlib/v1.8/LinearAlgebra/src/special.jl:253</a></li> <li> +(x::<b>AbstractSparseVector</b>, y::<b>AbstractSparseVector</b>) in SparseArrays at <a href=\"file:///cache/build/default-amdci5-6/julialang/julia-release-1-dot-8/usr/share/julia/stdlib/v1.8/SparseArrays/src/sparsevector.jl\" target=\"_blank\">/home/alexis/julia/julia-1.8.3/share/julia/stdlib/v1.8/SparseArrays/src/sparsevector.jl:1392</a></li> <li> +(A::<b>AbstractSparseMatrix</b>, B::<b>Hermitian{<:Any, <:AbstractSparseMatrix}</b>) in SparseArrays at <a href=\"file:///cache/build/default-amdci5-6/julialang/julia-release-1-dot-8/usr/share/julia/stdlib/v1.8/SparseArrays/src/linalg.jl\" target=\"_blank\">/home/alexis/julia/julia-1.8.3/share/julia/stdlib/v1.8/SparseArrays/src/linalg.jl:14</a></li> <li> +(A::<b>AbstractSparseMatrix</b>, B::<b>Hermitian</b>) in SparseArrays at <a href=\"file:///cache/build/default-amdci5-6/julialang/julia-release-1-dot-8/usr/share/julia/stdlib/v1.8/SparseArrays/src/linalg.jl\" target=\"_blank\">/home/alexis/julia/julia-1.8.3/share/julia/stdlib/v1.8/SparseArrays/src/linalg.jl:17</a></li> <li> +(A::<b>AbstractSparseMatrix</b>, B::<b>Symmetric{<:Any, <:AbstractSparseMatrix}</b>) in SparseArrays at <a href=\"file:///cache/build/default-amdci5-6/julialang/julia-release-1-dot-8/usr/share/julia/stdlib/v1.8/SparseArrays/src/linalg.jl\" target=\"_blank\">/home/alexis/julia/julia-1.8.3/share/julia/stdlib/v1.8/SparseArrays/src/linalg.jl:14</a></li> <li> +(A::<b>AbstractSparseMatrix</b>, B::<b>Symmetric</b>) in SparseArrays at <a href=\"file:///cache/build/default-amdci5-6/julialang/julia-release-1-dot-8/usr/share/julia/stdlib/v1.8/SparseArrays/src/linalg.jl\" target=\"_blank\">/home/alexis/julia/julia-1.8.3/share/julia/stdlib/v1.8/SparseArrays/src/linalg.jl:17</a></li> <li> +(index1::<b>CartesianIndex{N}</b>, index2::<b>CartesianIndex{N}</b>)<i> where N</i> in Base.IteratorsMD at <a href=\"https://github.com/JuliaLang/julia/tree/0434deb161e17103eabdd7d82b17a1cd6b410572/base/multidimensional.jl#L114\" target=\"_blank\">multidimensional.jl:114</a></li> <li> +(r1::<b>LinRange{T}</b>, r2::<b>LinRange{T}</b>)<i> where T</i> in Base at <a href=\"https://github.com/JuliaLang/julia/tree/0434deb161e17103eabdd7d82b17a1cd6b410572/base/range.jl#L1430\" target=\"_blank\">range.jl:1430</a></li> <li> +(r1::<b>Union{LinRange, OrdinalRange, StepRangeLen}</b>, r2::<b>Union{LinRange, OrdinalRange, StepRangeLen}</b>) in Base at <a href=\"https://github.com/JuliaLang/julia/tree/0434deb161e17103eabdd7d82b17a1cd6b410572/base/range.jl#L1439\" target=\"_blank\">range.jl:1439</a></li> <li> +(r::<b>AbstractRange{<:Dates.TimeType}</b>, x::<b>Dates.Period</b>) in Dates at <a href=\"file:///cache/build/default-amdci5-6/julialang/julia-release-1-dot-8/usr/share/julia/stdlib/v1.8/Dates/src/ranges.jl\" target=\"_blank\">/home/alexis/julia/julia-1.8.3/share/julia/stdlib/v1.8/Dates/src/ranges.jl:64</a></li> <li> +(x::<b>AbstractArray{<:Dates.TimeType}</b>, y::<b>Union{Dates.CompoundPeriod, Dates.Period}</b>) in Dates at <a href=\"file:///cache/build/default-amdci5-6/julialang/julia-release-1-dot-8/usr/share/julia/stdlib/v1.8/Dates/src/deprecated.jl\" target=\"_blank\">/home/alexis/julia/julia-1.8.3/share/julia/stdlib/v1.8/Dates/src/deprecated.jl:6</a></li> <li> +(J::<b>UniformScaling</b>) in LinearAlgebra at <a href=\"file:///cache/build/default-amdci5-6/julialang/julia-release-1-dot-8/usr/share/julia/stdlib/v1.8/LinearAlgebra/src/uniformscaling.jl\" target=\"_blank\">/home/alexis/julia/julia-1.8.3/share/julia/stdlib/v1.8/LinearAlgebra/src/uniformscaling.jl:149</a></li> <li> +(J::<b>UniformScaling</b>, x::<b>Number</b>) in LinearAlgebra at <a href=\"file:///cache/build/default-amdci5-6/julialang/julia-release-1-dot-8/usr/share/julia/stdlib/v1.8/LinearAlgebra/src/uniformscaling.jl\" target=\"_blank\">/home/alexis/julia/julia-1.8.3/share/julia/stdlib/v1.8/LinearAlgebra/src/uniformscaling.jl:144</a></li> <li> +(J1::<b>UniformScaling</b>, J2::<b>UniformScaling</b>) in LinearAlgebra at <a href=\"file:///cache/build/default-amdci5-6/julialang/julia-release-1-dot-8/usr/share/julia/stdlib/v1.8/LinearAlgebra/src/uniformscaling.jl\" target=\"_blank\">/home/alexis/julia/julia-1.8.3/share/julia/stdlib/v1.8/LinearAlgebra/src/uniformscaling.jl:150</a></li> <li> +(J::<b>UniformScaling</b>, B::<b>BitMatrix</b>) in LinearAlgebra at <a href=\"file:///cache/build/default-amdci5-6/julialang/julia-release-1-dot-8/usr/share/julia/stdlib/v1.8/LinearAlgebra/src/uniformscaling.jl\" target=\"_blank\">/home/alexis/julia/julia-1.8.3/share/julia/stdlib/v1.8/LinearAlgebra/src/uniformscaling.jl:152</a></li> <li> +(x::<b>UniformScaling</b>, H::<b>UpperHessenberg</b>) in LinearAlgebra at <a href=\"file:///cache/build/default-amdci5-6/julialang/julia-release-1-dot-8/usr/share/julia/stdlib/v1.8/LinearAlgebra/src/hessenberg.jl\" target=\"_blank\">/home/alexis/julia/julia-1.8.3/share/julia/stdlib/v1.8/LinearAlgebra/src/hessenberg.jl:109</a></li> <li> +(J::<b>UniformScaling</b>, F::<b>Hessenberg</b>) in LinearAlgebra at <a href=\"file:///cache/build/default-amdci5-6/julialang/julia-release-1-dot-8/usr/share/julia/stdlib/v1.8/LinearAlgebra/src/hessenberg.jl\" target=\"_blank\">/home/alexis/julia/julia-1.8.3/share/julia/stdlib/v1.8/LinearAlgebra/src/hessenberg.jl:642</a></li> <li> +(A::<b>UniformScaling</b>, B::<b>Tridiagonal{var\"#s885\", V} where {var\"#s885\"<:Number, V<:AbstractVector{var\"#s885\"}}</b>) in LinearAlgebra at <a href=\"file:///cache/build/default-amdci5-6/julialang/julia-release-1-dot-8/usr/share/julia/stdlib/v1.8/LinearAlgebra/src/special.jl\" target=\"_blank\">/home/alexis/julia/julia-1.8.3/share/julia/stdlib/v1.8/LinearAlgebra/src/special.jl:257</a></li> <li> +(A::<b>UniformScaling</b>, B::<b>SymTridiagonal{var\"#s885\", V} where {var\"#s885\"<:Number, V<:AbstractVector{var\"#s885\"}}</b>) in LinearAlgebra at <a href=\"file:///cache/build/default-amdci5-6/julialang/julia-release-1-dot-8/usr/share/julia/stdlib/v1.8/LinearAlgebra/src/special.jl\" target=\"_blank\">/home/alexis/julia/julia-1.8.3/share/julia/stdlib/v1.8/LinearAlgebra/src/special.jl:262</a></li> <li> +(A::<b>UniformScaling</b>, B::<b>Bidiagonal{var\"#s885\", V} where {var\"#s885\"<:Number, V<:AbstractVector{var\"#s885\"}}</b>) in LinearAlgebra at <a href=\"file:///cache/build/default-amdci5-6/julialang/julia-release-1-dot-8/usr/share/julia/stdlib/v1.8/LinearAlgebra/src/special.jl\" target=\"_blank\">/home/alexis/julia/julia-1.8.3/share/julia/stdlib/v1.8/LinearAlgebra/src/special.jl:267</a></li> <li> +(A::<b>UniformScaling</b>, B::<b>Diagonal{var\"#s885\", V} where {var\"#s885\"<:Number, V<:AbstractVector{var\"#s885\"}}</b>) in LinearAlgebra at <a href=\"file:///cache/build/default-amdci5-6/julialang/julia-release-1-dot-8/usr/share/julia/stdlib/v1.8/LinearAlgebra/src/special.jl\" target=\"_blank\">/home/alexis/julia/julia-1.8.3/share/julia/stdlib/v1.8/LinearAlgebra/src/special.jl:272</a></li> <li> +(J::<b>UniformScaling</b>, A::<b>AbstractMatrix</b>) in LinearAlgebra at <a href=\"file:///cache/build/default-amdci5-6/julialang/julia-release-1-dot-8/usr/share/julia/stdlib/v1.8/LinearAlgebra/src/uniformscaling.jl\" target=\"_blank\">/home/alexis/julia/julia-1.8.3/share/julia/stdlib/v1.8/LinearAlgebra/src/uniformscaling.jl:153</a></li> <li> +(A::<b>Bidiagonal</b>, B::<b>Bidiagonal</b>) in LinearAlgebra at <a href=\"file:///cache/build/default-amdci5-6/julialang/julia-release-1-dot-8/usr/share/julia/stdlib/v1.8/LinearAlgebra/src/bidiag.jl\" target=\"_blank\">/home/alexis/julia/julia-1.8.3/share/julia/stdlib/v1.8/LinearAlgebra/src/bidiag.jl:365</a></li> <li> +(x::<b>Bidiagonal</b>, H::<b>UpperHessenberg</b>) in LinearAlgebra at <a href=\"file:///cache/build/default-amdci5-6/julialang/julia-release-1-dot-8/usr/share/julia/stdlib/v1.8/LinearAlgebra/src/hessenberg.jl\" target=\"_blank\">/home/alexis/julia/julia-1.8.3/share/julia/stdlib/v1.8/LinearAlgebra/src/hessenberg.jl:109</a></li> <li> +(A::<b>Bidiagonal</b>, B::<b>UpperTriangular</b>) in LinearAlgebra at <a href=\"file:///cache/build/default-amdci5-6/julialang/julia-release-1-dot-8/usr/share/julia/stdlib/v1.8/LinearAlgebra/src/special.jl\" target=\"_blank\">/home/alexis/julia/julia-1.8.3/share/julia/stdlib/v1.8/LinearAlgebra/src/special.jl:106</a></li> <li> +(A::<b>Bidiagonal</b>, B::<b>UnitUpperTriangular</b>) in LinearAlgebra at <a href=\"file:///cache/build/default-amdci5-6/julialang/julia-release-1-dot-8/usr/share/julia/stdlib/v1.8/LinearAlgebra/src/special.jl\" target=\"_blank\">/home/alexis/julia/julia-1.8.3/share/julia/stdlib/v1.8/LinearAlgebra/src/special.jl:106</a></li> <li> +(A::<b>Bidiagonal</b>, B::<b>LowerTriangular</b>) in LinearAlgebra at <a href=\"file:///cache/build/default-amdci5-6/julialang/julia-release-1-dot-8/usr/share/julia/stdlib/v1.8/LinearAlgebra/src/special.jl\" target=\"_blank\">/home/alexis/julia/julia-1.8.3/share/julia/stdlib/v1.8/LinearAlgebra/src/special.jl:106</a></li> <li> +(A::<b>Bidiagonal</b>, B::<b>UnitLowerTriangular</b>) in LinearAlgebra at <a href=\"file:///cache/build/default-amdci5-6/julialang/julia-release-1-dot-8/usr/share/julia/stdlib/v1.8/LinearAlgebra/src/special.jl\" target=\"_blank\">/home/alexis/julia/julia-1.8.3/share/julia/stdlib/v1.8/LinearAlgebra/src/special.jl:106</a></li> <li> +(A::<b>Bidiagonal</b>, B::<b>Diagonal</b>) in LinearAlgebra at <a href=\"file:///cache/build/default-amdci5-6/julialang/julia-release-1-dot-8/usr/share/julia/stdlib/v1.8/LinearAlgebra/src/special.jl\" target=\"_blank\">/home/alexis/julia/julia-1.8.3/share/julia/stdlib/v1.8/LinearAlgebra/src/special.jl:127</a></li> <li> +(A::<b>Bidiagonal</b>, B::<b>Tridiagonal</b>) in LinearAlgebra at <a href=\"file:///cache/build/default-amdci5-6/julialang/julia-release-1-dot-8/usr/share/julia/stdlib/v1.8/LinearAlgebra/src/special.jl\" target=\"_blank\">/home/alexis/julia/julia-1.8.3/share/julia/stdlib/v1.8/LinearAlgebra/src/special.jl:195</a></li> <li> +(A::<b>Bidiagonal</b>, B::<b>SymTridiagonal</b>) in LinearAlgebra at <a href=\"file:///cache/build/default-amdci5-6/julialang/julia-release-1-dot-8/usr/share/julia/stdlib/v1.8/LinearAlgebra/src/special.jl\" target=\"_blank\">/home/alexis/julia/julia-1.8.3/share/julia/stdlib/v1.8/LinearAlgebra/src/special.jl:215</a></li> <li> +(A::<b>Bidiagonal{var\"#s885\", V} where {var\"#s885\"<:Number, V<:AbstractVector{var\"#s885\"}}</b>, B::<b>UniformScaling</b>) in LinearAlgebra at <a href=\"file:///cache/build/default-amdci5-6/julialang/julia-release-1-dot-8/usr/share/julia/stdlib/v1.8/LinearAlgebra/src/special.jl\" target=\"_blank\">/home/alexis/julia/julia-1.8.3/share/julia/stdlib/v1.8/LinearAlgebra/src/special.jl:248</a></li> <li> +(x::<b>Dates.Instant</b>) in Dates at <a href=\"file:///cache/build/default-amdci5-6/julialang/julia-release-1-dot-8/usr/share/julia/stdlib/v1.8/Dates/src/arithmetic.jl\" target=\"_blank\">/home/alexis/julia/julia-1.8.3/share/julia/stdlib/v1.8/Dates/src/arithmetic.jl:4</a></li> <li> +(x::<b>Ptr</b>, y::<b>Integer</b>) in Base at <a href=\"https://github.com/JuliaLang/julia/tree/0434deb161e17103eabdd7d82b17a1cd6b410572/base/pointer.jl#L159\" target=\"_blank\">pointer.jl:159</a></li> <li> +(A::<b>Tridiagonal</b>, B::<b>Tridiagonal</b>) in LinearAlgebra at <a href=\"file:///cache/build/default-amdci5-6/julialang/julia-release-1-dot-8/usr/share/julia/stdlib/v1.8/LinearAlgebra/src/tridiag.jl\" target=\"_blank\">/home/alexis/julia/julia-1.8.3/share/julia/stdlib/v1.8/LinearAlgebra/src/tridiag.jl:741</a></li> <li> +(x::<b>Tridiagonal</b>, H::<b>UpperHessenberg</b>) in LinearAlgebra at <a href=\"file:///cache/build/default-amdci5-6/julialang/julia-release-1-dot-8/usr/share/julia/stdlib/v1.8/LinearAlgebra/src/hessenberg.jl\" target=\"_blank\">/home/alexis/julia/julia-1.8.3/share/julia/stdlib/v1.8/LinearAlgebra/src/hessenberg.jl:109</a></li> <li> +(A::<b>Tridiagonal</b>, B::<b>SymTridiagonal</b>) in LinearAlgebra at <a href=\"file:///cache/build/default-amdci5-6/julialang/julia-release-1-dot-8/usr/share/julia/stdlib/v1.8/LinearAlgebra/src/special.jl\" target=\"_blank\">/home/alexis/julia/julia-1.8.3/share/julia/stdlib/v1.8/LinearAlgebra/src/special.jl:169</a></li> <li> +(A::<b>Tridiagonal</b>, B::<b>Diagonal</b>) in LinearAlgebra at <a href=\"file:///cache/build/default-amdci5-6/julialang/julia-release-1-dot-8/usr/share/julia/stdlib/v1.8/LinearAlgebra/src/special.jl\" target=\"_blank\">/home/alexis/julia/julia-1.8.3/share/julia/stdlib/v1.8/LinearAlgebra/src/special.jl:185</a></li> <li> +(A::<b>Tridiagonal</b>, B::<b>Bidiagonal</b>) in LinearAlgebra at <a href=\"file:///cache/build/default-amdci5-6/julialang/julia-release-1-dot-8/usr/share/julia/stdlib/v1.8/LinearAlgebra/src/special.jl\" target=\"_blank\">/home/alexis/julia/julia-1.8.3/share/julia/stdlib/v1.8/LinearAlgebra/src/special.jl:205</a></li> <li> +(A::<b>Tridiagonal{var\"#s885\", V} where {var\"#s885\"<:Number, V<:AbstractVector{var\"#s885\"}}</b>, B::<b>UniformScaling</b>) in LinearAlgebra at <a href=\"file:///cache/build/default-amdci5-6/julialang/julia-release-1-dot-8/usr/share/julia/stdlib/v1.8/LinearAlgebra/src/special.jl\" target=\"_blank\">/home/alexis/julia/julia-1.8.3/share/julia/stdlib/v1.8/LinearAlgebra/src/special.jl:238</a></li> <li> +(A::<b>Hermitian</b>, B::<b>Hermitian</b>) in LinearAlgebra at <a href=\"file:///cache/build/default-amdci5-6/julialang/julia-release-1-dot-8/usr/share/julia/stdlib/v1.8/LinearAlgebra/src/symmetric.jl\" target=\"_blank\">/home/alexis/julia/julia-1.8.3/share/julia/stdlib/v1.8/LinearAlgebra/src/symmetric.jl:469</a></li> <li> +(A::<b>Hermitian</b>, B::<b>SymTridiagonal{var\"#s882\", V} where {var\"#s882\"<:Real, V<:AbstractVector{var\"#s882\"}}</b>) in LinearAlgebra at <a href=\"file:///cache/build/default-amdci5-6/julialang/julia-release-1-dot-8/usr/share/julia/stdlib/v1.8/LinearAlgebra/src/symmetric.jl\" target=\"_blank\">/home/alexis/julia/julia-1.8.3/share/julia/stdlib/v1.8/LinearAlgebra/src/symmetric.jl:488</a></li> <li> +(H::<b>Hermitian</b>, D::<b>Diagonal{var\"#s885\", V} where {var\"#s885\"<:Real, V<:AbstractVector{var\"#s885\"}}</b>) in LinearAlgebra at <a href=\"file:///cache/build/default-amdci5-6/julialang/julia-release-1-dot-8/usr/share/julia/stdlib/v1.8/LinearAlgebra/src/diagonal.jl\" target=\"_blank\">/home/alexis/julia/julia-1.8.3/share/julia/stdlib/v1.8/LinearAlgebra/src/diagonal.jl:197</a></li> <li> +(A::<b>Hermitian</b>, J::<b>UniformScaling{<:Complex}</b>) in LinearAlgebra at <a href=\"file:///cache/build/default-amdci5-6/julialang/julia-release-1-dot-8/usr/share/julia/stdlib/v1.8/LinearAlgebra/src/uniformscaling.jl\" target=\"_blank\">/home/alexis/julia/julia-1.8.3/share/julia/stdlib/v1.8/LinearAlgebra/src/uniformscaling.jl:195</a></li> <li> +(A::<b>Hermitian{<:Any, <:AbstractSparseMatrix}</b>, B::<b>AbstractSparseMatrix</b>) in SparseArrays at <a href=\"file:///cache/build/default-amdci5-6/julialang/julia-release-1-dot-8/usr/share/julia/stdlib/v1.8/SparseArrays/src/linalg.jl\" target=\"_blank\">/home/alexis/julia/julia-1.8.3/share/julia/stdlib/v1.8/SparseArrays/src/linalg.jl:15</a></li> <li> +(A::<b>Hermitian</b>, B::<b>AbstractSparseMatrix</b>) in SparseArrays at <a href=\"file:///cache/build/default-amdci5-6/julialang/julia-release-1-dot-8/usr/share/julia/stdlib/v1.8/SparseArrays/src/linalg.jl\" target=\"_blank\">/home/alexis/julia/julia-1.8.3/share/julia/stdlib/v1.8/SparseArrays/src/linalg.jl:18</a></li> <li> +(A::<b>Hermitian{<:Any, <:AbstractSparseMatrix}</b>, B::<b>Symmetric{<:Real, <:AbstractSparseMatrix}</b>) in SparseArrays at <a href=\"file:///cache/build/default-amdci5-6/julialang/julia-release-1-dot-8/usr/share/julia/stdlib/v1.8/SparseArrays/src/linalg.jl\" target=\"_blank\">/home/alexis/julia/julia-1.8.3/share/julia/stdlib/v1.8/SparseArrays/src/linalg.jl:26</a></li> <li> +(A::<b>Hermitian</b>, B::<b>Symmetric{var\"#s885\", S} where {var\"#s885\"<:Real, S<:(AbstractMatrix{<:var\"#s885\"})}</b>) in LinearAlgebra at <a href=\"file:///cache/build/default-amdci5-6/julialang/julia-release-1-dot-8/usr/share/julia/stdlib/v1.8/LinearAlgebra/src/symmetric.jl\" target=\"_blank\">/home/alexis/julia/julia-1.8.3/share/julia/stdlib/v1.8/LinearAlgebra/src/symmetric.jl:483</a></li> <li> +(A::<b>Hermitian{<:Any, <:AbstractSparseMatrix}</b>, B::<b>Symmetric{<:Any, <:AbstractSparseMatrix}</b>) in SparseArrays at <a href=\"file:///cache/build/default-amdci5-6/julialang/julia-release-1-dot-8/usr/share/julia/stdlib/v1.8/SparseArrays/src/linalg.jl\" target=\"_blank\">/home/alexis/julia/julia-1.8.3/share/julia/stdlib/v1.8/SparseArrays/src/linalg.jl:24</a></li> <li> +(x::<b>P</b>, y::<b>P</b>)<i> where P<:Dates.Period</i> in Dates at <a href=\"file:///cache/build/default-amdci5-6/julialang/julia-release-1-dot-8/usr/share/julia/stdlib/v1.8/Dates/src/periods.jl\" target=\"_blank\">/home/alexis/julia/julia-1.8.3/share/julia/stdlib/v1.8/Dates/src/periods.jl:77</a></li> <li> +(x::<b>Dates.Period</b>, y::<b>Dates.Period</b>) in Dates at <a href=\"file:///cache/build/default-amdci5-6/julialang/julia-release-1-dot-8/usr/share/julia/stdlib/v1.8/Dates/src/periods.jl\" target=\"_blank\">/home/alexis/julia/julia-1.8.3/share/julia/stdlib/v1.8/Dates/src/periods.jl:367</a></li> <li> +(y::<b>Dates.Period</b>, x::<b>Dates.CompoundPeriod</b>) in Dates at <a href=\"file:///cache/build/default-amdci5-6/julialang/julia-release-1-dot-8/usr/share/julia/stdlib/v1.8/Dates/src/periods.jl\" target=\"_blank\">/home/alexis/julia/julia-1.8.3/share/julia/stdlib/v1.8/Dates/src/periods.jl:369</a></li> <li> +(y::<b>Dates.Period</b>, x::<b>Dates.TimeType</b>) in Dates at <a href=\"file:///cache/build/default-amdci5-6/julialang/julia-release-1-dot-8/usr/share/julia/stdlib/v1.8/Dates/src/arithmetic.jl\" target=\"_blank\">/home/alexis/julia/julia-1.8.3/share/julia/stdlib/v1.8/Dates/src/arithmetic.jl:85</a></li> <li> +(x::<b>Dates.Period</b>, r::<b>AbstractRange{<:Dates.TimeType}</b>) in Dates at <a href=\"file:///cache/build/default-amdci5-6/julialang/julia-release-1-dot-8/usr/share/julia/stdlib/v1.8/Dates/src/ranges.jl\" target=\"_blank\">/home/alexis/julia/julia-1.8.3/share/julia/stdlib/v1.8/Dates/src/ranges.jl:63</a></li> <li> +(y::<b>Union{Dates.CompoundPeriod, Dates.Period}</b>, x::<b>AbstractArray{<:Dates.TimeType}</b>) in Dates at <a href=\"file:///cache/build/default-amdci5-6/julialang/julia-release-1-dot-8/usr/share/julia/stdlib/v1.8/Dates/src/deprecated.jl\" target=\"_blank\">/home/alexis/julia/julia-1.8.3/share/julia/stdlib/v1.8/Dates/src/deprecated.jl:14</a></li> <li> +(z::<b>Complex</b>, w::<b>Complex</b>) in Base at <a href=\"https://github.com/JuliaLang/julia/tree/0434deb161e17103eabdd7d82b17a1cd6b410572/base/complex.jl#L288\" target=\"_blank\">complex.jl:288</a></li> <li> +(y::<b>Dates.TimeType</b>, x::<b>StridedArray{<:Union{Dates.CompoundPeriod, Dates.Period}}</b>) in Dates at <a href=\"file:///cache/build/default-amdci5-6/julialang/julia-release-1-dot-8/usr/share/julia/stdlib/v1.8/Dates/src/deprecated.jl\" target=\"_blank\">/home/alexis/julia/julia-1.8.3/share/julia/stdlib/v1.8/Dates/src/deprecated.jl:18</a></li> <li> +(A::<b>SymTridiagonal</b>, B::<b>SymTridiagonal</b>) in LinearAlgebra at <a href=\"file:///cache/build/default-amdci5-6/julialang/julia-release-1-dot-8/usr/share/julia/stdlib/v1.8/LinearAlgebra/src/tridiag.jl\" target=\"_blank\">/home/alexis/julia/julia-1.8.3/share/julia/stdlib/v1.8/LinearAlgebra/src/tridiag.jl:207</a></li> <li> +(A::<b>SymTridiagonal</b>, B::<b>Symmetric</b>) in LinearAlgebra at <a href=\"file:///cache/build/default-amdci5-6/julialang/julia-release-1-dot-8/usr/share/julia/stdlib/v1.8/LinearAlgebra/src/symmetric.jl\" target=\"_blank\">/home/alexis/julia/julia-1.8.3/share/julia/stdlib/v1.8/LinearAlgebra/src/symmetric.jl:485</a></li> <li> +(A::<b>SymTridiagonal{var\"#s883\", V} where {var\"#s883\"<:Real, V<:AbstractVector{var\"#s883\"}}</b>, B::<b>Hermitian</b>) in LinearAlgebra at <a href=\"file:///cache/build/default-amdci5-6/julialang/julia-release-1-dot-8/usr/share/julia/stdlib/v1.8/LinearAlgebra/src/symmetric.jl\" target=\"_blank\">/home/alexis/julia/julia-1.8.3/share/julia/stdlib/v1.8/LinearAlgebra/src/symmetric.jl:487</a></li> <li> +(x::<b>SymTridiagonal</b>, H::<b>UpperHessenberg</b>) in LinearAlgebra at <a href=\"file:///cache/build/default-amdci5-6/julialang/julia-release-1-dot-8/usr/share/julia/stdlib/v1.8/LinearAlgebra/src/hessenberg.jl\" target=\"_blank\">/home/alexis/julia/julia-1.8.3/share/julia/stdlib/v1.8/LinearAlgebra/src/hessenberg.jl:109</a></li> <li> +(A::<b>SymTridiagonal</b>, B::<b>Diagonal</b>) in LinearAlgebra at <a href=\"file:///cache/build/default-amdci5-6/julialang/julia-release-1-dot-8/usr/share/julia/stdlib/v1.8/LinearAlgebra/src/special.jl\" target=\"_blank\">/home/alexis/julia/julia-1.8.3/share/julia/stdlib/v1.8/LinearAlgebra/src/special.jl:157</a></li> <li> +(A::<b>SymTridiagonal</b>, B::<b>Tridiagonal</b>) in LinearAlgebra at <a href=\"file:///cache/build/default-amdci5-6/julialang/julia-release-1-dot-8/usr/share/julia/stdlib/v1.8/LinearAlgebra/src/special.jl\" target=\"_blank\">/home/alexis/julia/julia-1.8.3/share/julia/stdlib/v1.8/LinearAlgebra/src/special.jl:171</a></li> <li> +(A::<b>SymTridiagonal</b>, B::<b>Bidiagonal</b>) in LinearAlgebra at <a href=\"file:///cache/build/default-amdci5-6/julialang/julia-release-1-dot-8/usr/share/julia/stdlib/v1.8/LinearAlgebra/src/special.jl\" target=\"_blank\">/home/alexis/julia/julia-1.8.3/share/julia/stdlib/v1.8/LinearAlgebra/src/special.jl:225</a></li> <li> +(A::<b>SymTridiagonal{var\"#s885\", V} where {var\"#s885\"<:Number, V<:AbstractVector{var\"#s885\"}}</b>, B::<b>UniformScaling</b>) in LinearAlgebra at <a href=\"file:///cache/build/default-amdci5-6/julialang/julia-release-1-dot-8/usr/share/julia/stdlib/v1.8/LinearAlgebra/src/special.jl\" target=\"_blank\">/home/alexis/julia/julia-1.8.3/share/julia/stdlib/v1.8/LinearAlgebra/src/special.jl:243</a></li> <li> +(A::<b>LowerTriangular</b>, B::<b>LowerTriangular</b>) in LinearAlgebra at <a href=\"file:///cache/build/default-amdci5-6/julialang/julia-release-1-dot-8/usr/share/julia/stdlib/v1.8/LinearAlgebra/src/triangular.jl\" target=\"_blank\">/home/alexis/julia/julia-1.8.3/share/julia/stdlib/v1.8/LinearAlgebra/src/triangular.jl:639</a></li> <li> +(A::<b>LowerTriangular</b>, B::<b>UnitLowerTriangular</b>) in LinearAlgebra at <a href=\"file:///cache/build/default-amdci5-6/julialang/julia-release-1-dot-8/usr/share/julia/stdlib/v1.8/LinearAlgebra/src/triangular.jl\" target=\"_blank\">/home/alexis/julia/julia-1.8.3/share/julia/stdlib/v1.8/LinearAlgebra/src/triangular.jl:641</a></li> <li> +(A::<b>LowerTriangular</b>, B::<b>Bidiagonal</b>) in LinearAlgebra at <a href=\"file:///cache/build/default-amdci5-6/julialang/julia-release-1-dot-8/usr/share/julia/stdlib/v1.8/LinearAlgebra/src/special.jl\" target=\"_blank\">/home/alexis/julia/julia-1.8.3/share/julia/stdlib/v1.8/LinearAlgebra/src/special.jl:98</a></li> <li> +(A::<b>UpperTriangular</b>, B::<b>UpperTriangular</b>) in LinearAlgebra at <a href=\"file:///cache/build/default-amdci5-6/julialang/julia-release-1-dot-8/usr/share/julia/stdlib/v1.8/LinearAlgebra/src/triangular.jl\" target=\"_blank\">/home/alexis/julia/julia-1.8.3/share/julia/stdlib/v1.8/LinearAlgebra/src/triangular.jl:638</a></li> <li> +(A::<b>UpperTriangular</b>, B::<b>UnitUpperTriangular</b>) in LinearAlgebra at <a href=\"file:///cache/build/default-amdci5-6/julialang/julia-release-1-dot-8/usr/share/julia/stdlib/v1.8/LinearAlgebra/src/triangular.jl\" target=\"_blank\">/home/alexis/julia/julia-1.8.3/share/julia/stdlib/v1.8/LinearAlgebra/src/triangular.jl:640</a></li> <li> +(A::<b>LinearAlgebra.AbstractTriangular</b>, B::<b>LinearAlgebra.AbstractTriangular</b>) in LinearAlgebra at <a href=\"file:///cache/build/default-amdci5-6/julialang/julia-release-1-dot-8/usr/share/julia/stdlib/v1.8/LinearAlgebra/src/triangular.jl\" target=\"_blank\">/home/alexis/julia/julia-1.8.3/share/julia/stdlib/v1.8/LinearAlgebra/src/triangular.jl:646</a></li> <li> +(x::<b>UpperTriangular</b>, H::<b>UpperHessenberg</b>) in LinearAlgebra at <a href=\"file:///cache/build/default-amdci5-6/julialang/julia-release-1-dot-8/usr/share/julia/stdlib/v1.8/LinearAlgebra/src/hessenberg.jl\" target=\"_blank\">/home/alexis/julia/julia-1.8.3/share/julia/stdlib/v1.8/LinearAlgebra/src/hessenberg.jl:109</a></li> <li> +(A::<b>UpperTriangular</b>, B::<b>Bidiagonal</b>) in LinearAlgebra at <a href=\"file:///cache/build/default-amdci5-6/julialang/julia-release-1-dot-8/usr/share/julia/stdlib/v1.8/LinearAlgebra/src/special.jl\" target=\"_blank\">/home/alexis/julia/julia-1.8.3/share/julia/stdlib/v1.8/LinearAlgebra/src/special.jl:98</a></li> <li> +(x::<b>AbstractIrrational</b>, y::<b>AbstractIrrational</b>) in Base at <a href=\"https://github.com/JuliaLang/julia/tree/0434deb161e17103eabdd7d82b17a1cd6b410572/base/irrationals.jl#L158\" target=\"_blank\">irrationals.jl:158</a></li> <li> +(A::<b>Array</b>, Bs::<b>Array...</b>) in Base at <a href=\"https://github.com/JuliaLang/julia/tree/0434deb161e17103eabdd7d82b17a1cd6b410572/base/arraymath.jl#L12\" target=\"_blank\">arraymath.jl:12</a></li> <li> +(X::<b>StridedArray{<:Union{Dates.CompoundPeriod, Dates.Period}}</b>, Y::<b>StridedArray{<:Union{Dates.CompoundPeriod, Dates.Period}}</b>) in Dates at <a href=\"file:///cache/build/default-amdci5-6/julialang/julia-release-1-dot-8/usr/share/julia/stdlib/v1.8/Dates/src/deprecated.jl\" target=\"_blank\">/home/alexis/julia/julia-1.8.3/share/julia/stdlib/v1.8/Dates/src/deprecated.jl:62</a></li> <li> +(A::<b>Array</b>, B::<b>SparseArrays.AbstractSparseMatrixCSC</b>) in SparseArrays at <a href=\"file:///cache/build/default-amdci5-6/julialang/julia-release-1-dot-8/usr/share/julia/stdlib/v1.8/SparseArrays/src/sparsematrix.jl\" target=\"_blank\">/home/alexis/julia/julia-1.8.3/share/julia/stdlib/v1.8/SparseArrays/src/sparsematrix.jl:1833</a></li> <li> +(x::<b>StridedArray{<:Union{Dates.CompoundPeriod, Dates.Period}}</b>) in Dates at <a href=\"file:///cache/build/default-amdci5-6/julialang/julia-release-1-dot-8/usr/share/julia/stdlib/v1.8/Dates/src/deprecated.jl\" target=\"_blank\">/home/alexis/julia/julia-1.8.3/share/julia/stdlib/v1.8/Dates/src/deprecated.jl:55</a></li> <li> +(x::<b>StridedArray{<:Union{Dates.CompoundPeriod, Dates.Period}}</b>, y::<b>Dates.TimeType</b>) in Dates at <a href=\"file:///cache/build/default-amdci5-6/julialang/julia-release-1-dot-8/usr/share/julia/stdlib/v1.8/Dates/src/deprecated.jl\" target=\"_blank\">/home/alexis/julia/julia-1.8.3/share/julia/stdlib/v1.8/Dates/src/deprecated.jl:10</a></li> <li> +(A::<b>AbstractArray</b>, B::<b>AbstractArray</b>) in Base at <a href=\"https://github.com/JuliaLang/julia/tree/0434deb161e17103eabdd7d82b17a1cd6b410572/base/arraymath.jl#L6\" target=\"_blank\">arraymath.jl:6</a></li> <li> +(x::<b>BigFloat</b>, c::<b>Union{UInt16, UInt32, UInt64, UInt8}</b>) in Base.MPFR at <a href=\"https://github.com/JuliaLang/julia/tree/0434deb161e17103eabdd7d82b17a1cd6b410572/base/mpfr.jl#L393\" target=\"_blank\">mpfr.jl:393</a></li> <li> +(x::<b>BigFloat</b>, c::<b>Union{Int16, Int32, Int64, Int8}</b>) in Base.MPFR at <a href=\"https://github.com/JuliaLang/julia/tree/0434deb161e17103eabdd7d82b17a1cd6b410572/base/mpfr.jl#L401\" target=\"_blank\">mpfr.jl:401</a></li> <li> +(x::<b>BigFloat</b>, c::<b>Union{Float16, Float32, Float64}</b>) in Base.MPFR at <a href=\"https://github.com/JuliaLang/julia/tree/0434deb161e17103eabdd7d82b17a1cd6b410572/base/mpfr.jl#L409\" target=\"_blank\">mpfr.jl:409</a></li> <li> +(x::<b>BigFloat</b>, y::<b>BigFloat</b>) in Base.MPFR at <a href=\"https://github.com/JuliaLang/julia/tree/0434deb161e17103eabdd7d82b17a1cd6b410572/base/mpfr.jl#L386\" target=\"_blank\">mpfr.jl:386</a></li> <li> +(x::<b>BigFloat</b>, c::<b>BigInt</b>) in Base.MPFR at <a href=\"https://github.com/JuliaLang/julia/tree/0434deb161e17103eabdd7d82b17a1cd6b410572/base/mpfr.jl#L417\" target=\"_blank\">mpfr.jl:417</a></li> <li> +(a::<b>BigFloat</b>, b::<b>BigFloat</b>, c::<b>BigFloat</b>) in Base.MPFR at <a href=\"https://github.com/JuliaLang/julia/tree/0434deb161e17103eabdd7d82b17a1cd6b410572/base/mpfr.jl#L558\" target=\"_blank\">mpfr.jl:558</a></li> <li> +(a::<b>BigFloat</b>, b::<b>BigFloat</b>, c::<b>BigFloat</b>, d::<b>BigFloat</b>) in Base.MPFR at <a href=\"https://github.com/JuliaLang/julia/tree/0434deb161e17103eabdd7d82b17a1cd6b410572/base/mpfr.jl#L564\" target=\"_blank\">mpfr.jl:564</a></li> <li> +(a::<b>BigFloat</b>, b::<b>BigFloat</b>, c::<b>BigFloat</b>, d::<b>BigFloat</b>, e::<b>BigFloat</b>) in Base.MPFR at <a href=\"https://github.com/JuliaLang/julia/tree/0434deb161e17103eabdd7d82b17a1cd6b410572/base/mpfr.jl#L571\" target=\"_blank\">mpfr.jl:571</a></li> <li> +(x::<b>BigInt</b>, c::<b>Union{UInt16, UInt32, UInt64, UInt8}</b>) in Base.GMP at <a href=\"https://github.com/JuliaLang/julia/tree/0434deb161e17103eabdd7d82b17a1cd6b410572/base/gmp.jl#L530\" target=\"_blank\">gmp.jl:530</a></li> <li> +(x::<b>BigInt</b>, c::<b>Union{Int16, Int32, Int64, Int8}</b>) in Base.GMP at <a href=\"https://github.com/JuliaLang/julia/tree/0434deb161e17103eabdd7d82b17a1cd6b410572/base/gmp.jl#L536\" target=\"_blank\">gmp.jl:536</a></li> <li> +(x::<b>BigInt</b>, y::<b>BigInt</b>) in Base.GMP at <a href=\"https://github.com/JuliaLang/julia/tree/0434deb161e17103eabdd7d82b17a1cd6b410572/base/gmp.jl#L482\" target=\"_blank\">gmp.jl:482</a></li> <li> +(a::<b>BigInt</b>, b::<b>BigInt</b>, c::<b>BigInt</b>) in Base.GMP at <a href=\"https://github.com/JuliaLang/julia/tree/0434deb161e17103eabdd7d82b17a1cd6b410572/base/gmp.jl#L522\" target=\"_blank\">gmp.jl:522</a></li> <li> +(a::<b>BigInt</b>, b::<b>BigInt</b>, c::<b>BigInt</b>, d::<b>BigInt</b>) in Base.GMP at <a href=\"https://github.com/JuliaLang/julia/tree/0434deb161e17103eabdd7d82b17a1cd6b410572/base/gmp.jl#L523\" target=\"_blank\">gmp.jl:523</a></li> <li> +(a::<b>BigInt</b>, b::<b>BigInt</b>, c::<b>BigInt</b>, d::<b>BigInt</b>, e::<b>BigInt</b>) in Base.GMP at <a href=\"https://github.com/JuliaLang/julia/tree/0434deb161e17103eabdd7d82b17a1cd6b410572/base/gmp.jl#L524\" target=\"_blank\">gmp.jl:524</a></li> <li> +(x::<b>BigInt</b>, y::<b>BigInt</b>, rest::<b>BigInt...</b>) in Base.GMP at <a href=\"https://github.com/JuliaLang/julia/tree/0434deb161e17103eabdd7d82b17a1cd6b410572/base/gmp.jl#L657\" target=\"_blank\">gmp.jl:657</a></li> <li> +(c::<b>BigInt</b>, x::<b>BigFloat</b>) in Base.MPFR at <a href=\"https://github.com/JuliaLang/julia/tree/0434deb161e17103eabdd7d82b17a1cd6b410572/base/mpfr.jl#L422\" target=\"_blank\">mpfr.jl:422</a></li> <li> +(x::<b>Rational{BigInt}</b>, y::<b>Rational{BigInt}</b>) in Base.GMP.MPQ at <a href=\"https://github.com/JuliaLang/julia/tree/0434deb161e17103eabdd7d82b17a1cd6b410572/base/gmp.jl#L922\" target=\"_blank\">gmp.jl:922</a></li> <li> +(x::<b>Rational</b>) in Base at <a href=\"https://github.com/JuliaLang/julia/tree/0434deb161e17103eabdd7d82b17a1cd6b410572/base/rational.jl#L270\" target=\"_blank\">rational.jl:270</a></li> <li> +(x::<b>Rational</b>, y::<b>Rational</b>) in Base at <a href=\"https://github.com/JuliaLang/julia/tree/0434deb161e17103eabdd7d82b17a1cd6b410572/base/rational.jl#L284\" target=\"_blank\">rational.jl:284</a></li> <li> +(level::<b>Base.CoreLogging.LogLevel</b>, inc::<b>Integer</b>) in Base.CoreLogging at <a href=\"https://github.com/JuliaLang/julia/tree/0434deb161e17103eabdd7d82b17a1cd6b410572/base/logging.jl#L131\" target=\"_blank\">logging.jl:131</a></li> <li> +(x::<b>Bool</b>) in Base at <a href=\"https://github.com/JuliaLang/julia/tree/0434deb161e17103eabdd7d82b17a1cd6b410572/base/bool.jl#L159\" target=\"_blank\">bool.jl:159</a></li> <li> +(x::<b>Integer</b>, y::<b>Ptr</b>) in Base at <a href=\"https://github.com/JuliaLang/julia/tree/0434deb161e17103eabdd7d82b17a1cd6b410572/base/pointer.jl#L161\" target=\"_blank\">pointer.jl:161</a></li> <li> +(y::<b>Integer</b>, x::<b>Rational</b>) in Base at <a href=\"https://github.com/JuliaLang/julia/tree/0434deb161e17103eabdd7d82b17a1cd6b410572/base/rational.jl#L320\" target=\"_blank\">rational.jl:320</a></li> <li> +(x::<b>Integer</b>, y::<b>AbstractChar</b>) in Base at <a href=\"https://github.com/JuliaLang/julia/tree/0434deb161e17103eabdd7d82b17a1cd6b410572/base/char.jl#L247\" target=\"_blank\">char.jl:247</a></li> <li> +(x::<b>Bool</b>, y::<b>T</b>)<i> where T<:AbstractFloat</i> in Base at <a href=\"https://github.com/JuliaLang/julia/tree/0434deb161e17103eabdd7d82b17a1cd6b410572/base/bool.jl#L169\" target=\"_blank\">bool.jl:169</a></li> <li> +(x::<b>Bool</b>, y::<b>Bool</b>) in Base at <a href=\"https://github.com/JuliaLang/julia/tree/0434deb161e17103eabdd7d82b17a1cd6b410572/base/bool.jl#L162\" target=\"_blank\">bool.jl:162</a></li> <li> +(a::<b>Integer</b>, b::<b>Integer</b>) in Base at <a href=\"https://github.com/JuliaLang/julia/tree/0434deb161e17103eabdd7d82b17a1cd6b410572/base/int.jl#L987\" target=\"_blank\">int.jl:987</a></li> <li> +(x::<b>Bool</b>, z::<b>Complex{Bool}</b>) in Base at <a href=\"https://github.com/JuliaLang/julia/tree/0434deb161e17103eabdd7d82b17a1cd6b410572/base/complex.jl#L299\" target=\"_blank\">complex.jl:299</a></li> <li> +(x::<b>Real</b>, z::<b>Complex{Bool}</b>) in Base at <a href=\"https://github.com/JuliaLang/julia/tree/0434deb161e17103eabdd7d82b17a1cd6b410572/base/complex.jl#L313\" target=\"_blank\">complex.jl:313</a></li> <li> +(x::<b>Bool</b>, z::<b>Complex</b>) in Base at <a href=\"https://github.com/JuliaLang/julia/tree/0434deb161e17103eabdd7d82b17a1cd6b410572/base/complex.jl#L306\" target=\"_blank\">complex.jl:306</a></li> <li> +(x::<b>Real</b>, z::<b>Complex</b>) in Base at <a href=\"https://github.com/JuliaLang/julia/tree/0434deb161e17103eabdd7d82b17a1cd6b410572/base/complex.jl#L325\" target=\"_blank\">complex.jl:325</a></li> <li> +(::<b>Missing</b>) in Base at <a href=\"https://github.com/JuliaLang/julia/tree/0434deb161e17103eabdd7d82b17a1cd6b410572/base/missing.jl#L101\" target=\"_blank\">missing.jl:101</a></li> <li> +(::<b>Missing</b>, ::<b>Number</b>) in Base at <a href=\"https://github.com/JuliaLang/julia/tree/0434deb161e17103eabdd7d82b17a1cd6b410572/base/missing.jl#L123\" target=\"_blank\">missing.jl:123</a></li> <li> +(x::<b>Missing</b>, y::<b>Dates.AbstractTime</b>) in Dates at <a href=\"file:///cache/build/default-amdci5-6/julialang/julia-release-1-dot-8/usr/share/julia/stdlib/v1.8/Dates/src/arithmetic.jl\" target=\"_blank\">/home/alexis/julia/julia-1.8.3/share/julia/stdlib/v1.8/Dates/src/arithmetic.jl:89</a></li> <li> +(::<b>Missing</b>, ::<b>Missing</b>) in Base at <a href=\"https://github.com/JuliaLang/julia/tree/0434deb161e17103eabdd7d82b17a1cd6b410572/base/missing.jl#L122\" target=\"_blank\">missing.jl:122</a></li> <li> +(z::<b>Complex{Bool}</b>, x::<b>Bool</b>) in Base at <a href=\"https://github.com/JuliaLang/julia/tree/0434deb161e17103eabdd7d82b17a1cd6b410572/base/complex.jl#L300\" target=\"_blank\">complex.jl:300</a></li> <li> +(z::<b>Complex</b>, x::<b>Bool</b>) in Base at <a href=\"https://github.com/JuliaLang/julia/tree/0434deb161e17103eabdd7d82b17a1cd6b410572/base/complex.jl#L307\" target=\"_blank\">complex.jl:307</a></li> <li> +(z::<b>Complex{Bool}</b>, x::<b>Real</b>) in Base at <a href=\"https://github.com/JuliaLang/julia/tree/0434deb161e17103eabdd7d82b17a1cd6b410572/base/complex.jl#L314\" target=\"_blank\">complex.jl:314</a></li> <li> +(z::<b>Complex</b>) in Base at <a href=\"https://github.com/JuliaLang/julia/tree/0434deb161e17103eabdd7d82b17a1cd6b410572/base/complex.jl#L286\" target=\"_blank\">complex.jl:286</a></li> <li> +(x::<b>Number</b>, y::<b>Base.TwicePrecision</b>) in Base at <a href=\"https://github.com/JuliaLang/julia/tree/0434deb161e17103eabdd7d82b17a1cd6b410572/base/twiceprecision.jl#L294\" target=\"_blank\">twiceprecision.jl:294</a></li> <li> +(::<b>Number</b>, ::<b>Missing</b>) in Base at <a href=\"https://github.com/JuliaLang/julia/tree/0434deb161e17103eabdd7d82b17a1cd6b410572/base/missing.jl#L124\" target=\"_blank\">missing.jl:124</a></li> <li> +(x::<b>Number</b>, J::<b>UniformScaling</b>) in LinearAlgebra at <a href=\"file:///cache/build/default-amdci5-6/julialang/julia-release-1-dot-8/usr/share/julia/stdlib/v1.8/LinearAlgebra/src/uniformscaling.jl\" target=\"_blank\">/home/alexis/julia/julia-1.8.3/share/julia/stdlib/v1.8/LinearAlgebra/src/uniformscaling.jl:145</a></li> <li> +(z::<b>Complex</b>, x::<b>Real</b>) in Base at <a href=\"https://github.com/JuliaLang/julia/tree/0434deb161e17103eabdd7d82b17a1cd6b410572/base/complex.jl#L326\" target=\"_blank\">complex.jl:326</a></li> <li> +(x::<b>Number</b>) in Base at <a href=\"https://github.com/JuliaLang/julia/tree/0434deb161e17103eabdd7d82b17a1cd6b410572/base/operators.jl#L528\" target=\"_blank\">operators.jl:528</a></li> <li> +(x::<b>T</b>, y::<b>T</b>)<i> where T<:Number</i> in Base at <a href=\"https://github.com/JuliaLang/julia/tree/0434deb161e17103eabdd7d82b17a1cd6b410572/base/promotion.jl#L463\" target=\"_blank\">promotion.jl:463</a></li> <li> +(x::<b>Number</b>, y::<b>Number</b>) in Base at <a href=\"https://github.com/JuliaLang/julia/tree/0434deb161e17103eabdd7d82b17a1cd6b410572/base/promotion.jl#L388\" target=\"_blank\">promotion.jl:388</a></li> <li> +(a::<b>Pkg.Resolve.FieldValue</b>, b::<b>Pkg.Resolve.FieldValue</b>) in Pkg.Resolve at <a href=\"file:///cache/build/default-amdci5-6/julialang/julia-release-1-dot-8/usr/share/julia/stdlib/v1.8/Pkg/src/Resolve/fieldvalues.jl\" target=\"_blank\">/home/alexis/julia/julia-1.8.3/share/julia/stdlib/v1.8/Pkg/src/Resolve/fieldvalues.jl:43</a></li> <li> +(dt::<b>Dates.DateTime</b>, y::<b>Dates.Year</b>) in Dates at <a href=\"file:///cache/build/default-amdci5-6/julialang/julia-release-1-dot-8/usr/share/julia/stdlib/v1.8/Dates/src/arithmetic.jl\" target=\"_blank\">/home/alexis/julia/julia-1.8.3/share/julia/stdlib/v1.8/Dates/src/arithmetic.jl:23</a></li> <li> +(dt::<b>Dates.DateTime</b>, z::<b>Dates.Month</b>) in Dates at <a href=\"file:///cache/build/default-amdci5-6/julialang/julia-release-1-dot-8/usr/share/julia/stdlib/v1.8/Dates/src/arithmetic.jl\" target=\"_blank\">/home/alexis/julia/julia-1.8.3/share/julia/stdlib/v1.8/Dates/src/arithmetic.jl:47</a></li> <li> +(x::<b>Dates.DateTime</b>, y::<b>Dates.Quarter</b>) in Dates at <a href=\"file:///cache/build/default-amdci5-6/julialang/julia-release-1-dot-8/usr/share/julia/stdlib/v1.8/Dates/src/arithmetic.jl\" target=\"_blank\">/home/alexis/julia/julia-1.8.3/share/julia/stdlib/v1.8/Dates/src/arithmetic.jl:75</a></li> <li> +(x::<b>Dates.DateTime</b>, y::<b>Dates.Period</b>) in Dates at <a href=\"file:///cache/build/default-amdci5-6/julialang/julia-release-1-dot-8/usr/share/julia/stdlib/v1.8/Dates/src/arithmetic.jl\" target=\"_blank\">/home/alexis/julia/julia-1.8.3/share/julia/stdlib/v1.8/Dates/src/arithmetic.jl:81</a></li> <li> +(a::<b>Pkg.Resolve.VersionWeight</b>, b::<b>Pkg.Resolve.VersionWeight</b>) in Pkg.Resolve at <a href=\"file:///cache/build/default-amdci5-6/julialang/julia-release-1-dot-8/usr/share/julia/stdlib/v1.8/Pkg/src/Resolve/versionweights.jl\" target=\"_blank\">/home/alexis/julia/julia-1.8.3/share/julia/stdlib/v1.8/Pkg/src/Resolve/versionweights.jl:22</a></li> <li> +(x::<b>Dates.Time</b>, y::<b>Dates.TimePeriod</b>) in Dates at <a href=\"file:///cache/build/default-amdci5-6/julialang/julia-release-1-dot-8/usr/share/julia/stdlib/v1.8/Dates/src/arithmetic.jl\" target=\"_blank\">/home/alexis/julia/julia-1.8.3/share/julia/stdlib/v1.8/Dates/src/arithmetic.jl:83</a></li> <li> +(t::<b>Dates.Time</b>, dt::<b>Dates.Date</b>) in Dates at <a href=\"file:///cache/build/default-amdci5-6/julialang/julia-release-1-dot-8/usr/share/julia/stdlib/v1.8/Dates/src/arithmetic.jl\" target=\"_blank\">/home/alexis/julia/julia-1.8.3/share/julia/stdlib/v1.8/Dates/src/arithmetic.jl:20</a></li> <li> +(dt::<b>Dates.Date</b>, t::<b>Dates.Time</b>) in Dates at <a href=\"file:///cache/build/default-amdci5-6/julialang/julia-release-1-dot-8/usr/share/julia/stdlib/v1.8/Dates/src/arithmetic.jl\" target=\"_blank\">/home/alexis/julia/julia-1.8.3/share/julia/stdlib/v1.8/Dates/src/arithmetic.jl:19</a></li> <li> +(dt::<b>Dates.Date</b>, y::<b>Dates.Year</b>) in Dates at <a href=\"file:///cache/build/default-amdci5-6/julialang/julia-release-1-dot-8/usr/share/julia/stdlib/v1.8/Dates/src/arithmetic.jl\" target=\"_blank\">/home/alexis/julia/julia-1.8.3/share/julia/stdlib/v1.8/Dates/src/arithmetic.jl:27</a></li> <li> +(dt::<b>Dates.Date</b>, z::<b>Dates.Month</b>) in Dates at <a href=\"file:///cache/build/default-amdci5-6/julialang/julia-release-1-dot-8/usr/share/julia/stdlib/v1.8/Dates/src/arithmetic.jl\" target=\"_blank\">/home/alexis/julia/julia-1.8.3/share/julia/stdlib/v1.8/Dates/src/arithmetic.jl:54</a></li> <li> +(x::<b>Dates.Date</b>, y::<b>Dates.Quarter</b>) in Dates at <a href=\"file:///cache/build/default-amdci5-6/julialang/julia-release-1-dot-8/usr/share/julia/stdlib/v1.8/Dates/src/arithmetic.jl\" target=\"_blank\">/home/alexis/julia/julia-1.8.3/share/julia/stdlib/v1.8/Dates/src/arithmetic.jl:73</a></li> <li> +(x::<b>Dates.Date</b>, y::<b>Dates.Week</b>) in Dates at <a href=\"file:///cache/build/default-amdci5-6/julialang/julia-release-1-dot-8/usr/share/julia/stdlib/v1.8/Dates/src/arithmetic.jl\" target=\"_blank\">/home/alexis/julia/julia-1.8.3/share/julia/stdlib/v1.8/Dates/src/arithmetic.jl:77</a></li> <li> +(x::<b>Dates.Date</b>, y::<b>Dates.Day</b>) in Dates at <a href=\"file:///cache/build/default-amdci5-6/julialang/julia-release-1-dot-8/usr/share/julia/stdlib/v1.8/Dates/src/arithmetic.jl\" target=\"_blank\">/home/alexis/julia/julia-1.8.3/share/julia/stdlib/v1.8/Dates/src/arithmetic.jl:79</a></li> <li> +(x::<b>Dates.TimeType</b>) in Dates at <a href=\"file:///cache/build/default-amdci5-6/julialang/julia-release-1-dot-8/usr/share/julia/stdlib/v1.8/Dates/src/arithmetic.jl\" target=\"_blank\">/home/alexis/julia/julia-1.8.3/share/julia/stdlib/v1.8/Dates/src/arithmetic.jl:8</a></li> <li> +(x::<b>Dates.AbstractTime</b>, y::<b>Missing</b>) in Dates at <a href=\"file:///cache/build/default-amdci5-6/julialang/julia-release-1-dot-8/usr/share/julia/stdlib/v1.8/Dates/src/arithmetic.jl\" target=\"_blank\">/home/alexis/julia/julia-1.8.3/share/julia/stdlib/v1.8/Dates/src/arithmetic.jl:88</a></li> <li> +(a::<b>Dates.TimeType</b>, b::<b>Dates.Period</b>, c::<b>Dates.Period</b>) in Dates at <a href=\"file:///cache/build/default-amdci5-6/julialang/julia-release-1-dot-8/usr/share/julia/stdlib/v1.8/Dates/src/periods.jl\" target=\"_blank\">/home/alexis/julia/julia-1.8.3/share/julia/stdlib/v1.8/Dates/src/periods.jl:389</a></li> <li> +(a::<b>Dates.TimeType</b>, b::<b>Dates.Period</b>, c::<b>Dates.Period</b>, d::<b>Dates.Period...</b>) in Dates at <a href=\"file:///cache/build/default-amdci5-6/julialang/julia-release-1-dot-8/usr/share/julia/stdlib/v1.8/Dates/src/periods.jl\" target=\"_blank\">/home/alexis/julia/julia-1.8.3/share/julia/stdlib/v1.8/Dates/src/periods.jl:390</a></li> <li> +(x::<b>Dates.TimeType</b>, y::<b>Dates.CompoundPeriod</b>) in Dates at <a href=\"file:///cache/build/default-amdci5-6/julialang/julia-release-1-dot-8/usr/share/julia/stdlib/v1.8/Dates/src/periods.jl\" target=\"_blank\">/home/alexis/julia/julia-1.8.3/share/julia/stdlib/v1.8/Dates/src/periods.jl:392</a></li> <li> +(B::<b>BitMatrix</b>, J::<b>UniformScaling</b>) in LinearAlgebra at <a href=\"file:///cache/build/default-amdci5-6/julialang/julia-release-1-dot-8/usr/share/julia/stdlib/v1.8/LinearAlgebra/src/uniformscaling.jl\" target=\"_blank\">/home/alexis/julia/julia-1.8.3/share/julia/stdlib/v1.8/LinearAlgebra/src/uniformscaling.jl:151</a></li> <li> +(A::<b>AbstractMatrix</b>, J::<b>UniformScaling</b>) in LinearAlgebra at <a href=\"file:///cache/build/default-amdci5-6/julialang/julia-release-1-dot-8/usr/share/julia/stdlib/v1.8/LinearAlgebra/src/uniformscaling.jl\" target=\"_blank\">/home/alexis/julia/julia-1.8.3/share/julia/stdlib/v1.8/LinearAlgebra/src/uniformscaling.jl:214</a></li> <li> +(x::<b>AbstractArray{<:Number}</b>) in Base at <a href=\"https://github.com/JuliaLang/julia/tree/0434deb161e17103eabdd7d82b17a1cd6b410572/base/abstractarraymath.jl#L220\" target=\"_blank\">abstractarraymath.jl:220</a></li> <li> +(x::<b>Dates.CompoundPeriod</b>, y::<b>Dates.Period</b>) in Dates at <a href=\"file:///cache/build/default-amdci5-6/julialang/julia-release-1-dot-8/usr/share/julia/stdlib/v1.8/Dates/src/periods.jl\" target=\"_blank\">/home/alexis/julia/julia-1.8.3/share/julia/stdlib/v1.8/Dates/src/periods.jl:368</a></li> <li> +(x::<b>Dates.CompoundPeriod</b>, y::<b>Dates.TimeType</b>) in Dates at <a href=\"file:///cache/build/default-amdci5-6/julialang/julia-release-1-dot-8/usr/share/julia/stdlib/v1.8/Dates/src/periods.jl\" target=\"_blank\">/home/alexis/julia/julia-1.8.3/share/julia/stdlib/v1.8/Dates/src/periods.jl:398</a></li> <li> +(x::<b>Dates.CompoundPeriod</b>, y::<b>Dates.CompoundPeriod</b>) in Dates at <a href=\"file:///cache/build/default-amdci5-6/julialang/julia-release-1-dot-8/usr/share/julia/stdlib/v1.8/Dates/src/periods.jl\" target=\"_blank\">/home/alexis/julia/julia-1.8.3/share/julia/stdlib/v1.8/Dates/src/periods.jl:370</a></li> <li> +(a, b, c, xs...) in Base at <a href=\"https://github.com/JuliaLang/julia/tree/0434deb161e17103eabdd7d82b17a1cd6b410572/base/operators.jl#L591\" target=\"_blank\">operators.jl:591</a></li> </ul>"
      ],
      "text/plain": [
       "# 206 methods for generic function \"+\":\n",
       "[1] +(x::T, y::T) where T<:Union{Int128, Int16, Int32, Int64, Int8, UInt128, UInt16, UInt32, UInt64, UInt8} in Base at int.jl:87\n",
       "[2] +(x::T, y::T) where T<:Union{Float16, Float32, Float64} in Base at float.jl:383\n",
       "[3] +(c::Union{UInt16, UInt32, UInt64, UInt8}, x::BigInt) in Base.GMP at gmp.jl:531\n",
       "[4] +(c::Union{Int16, Int32, Int64, Int8}, x::BigInt) in Base.GMP at gmp.jl:537\n",
       "[5] +(c::Union{UInt16, UInt32, UInt64, UInt8}, x::BigFloat) in Base.MPFR at mpfr.jl:398\n",
       "[6] +(c::Union{Int16, Int32, Int64, Int8}, x::BigFloat) in Base.MPFR at mpfr.jl:406\n",
       "[7] +(c::Union{Float16, Float32, Float64}, x::BigFloat) in Base.MPFR at mpfr.jl:414\n",
       "[8] +(x::Union{Dates.CompoundPeriod, Dates.Period}) in Dates at /home/alexis/julia/julia-1.8.3/share/julia/stdlib/v1.8/Dates/src/periods.jl:378\n",
       "[9] +(r1::StepRangeLen{T, R}, r2::StepRangeLen{T, R}) where {R<:Base.TwicePrecision, T} in Base at twiceprecision.jl:644\n",
       "[10] +(r1::StepRangeLen{T, S}, r2::StepRangeLen{T, S}) where {T, S} in Base at range.jl:1446\n",
       "[11] +(F::Hessenberg, J::UniformScaling) in LinearAlgebra at /home/alexis/julia/julia-1.8.3/share/julia/stdlib/v1.8/LinearAlgebra/src/hessenberg.jl:641\n",
       "[12] +(A::Symmetric, B::Symmetric) in LinearAlgebra at /home/alexis/julia/julia-1.8.3/share/julia/stdlib/v1.8/LinearAlgebra/src/symmetric.jl:469\n",
       "[13] +(A::Symmetric, B::SymTridiagonal) in LinearAlgebra at /home/alexis/julia/julia-1.8.3/share/julia/stdlib/v1.8/LinearAlgebra/src/symmetric.jl:486\n",
       "[14] +(S::Symmetric, D::Diagonal) in LinearAlgebra at /home/alexis/julia/julia-1.8.3/share/julia/stdlib/v1.8/LinearAlgebra/src/diagonal.jl:191\n",
       "[15] +(A::Symmetric{<:Any, <:AbstractSparseMatrix}, B::AbstractSparseMatrix) in SparseArrays at /home/alexis/julia/julia-1.8.3/share/julia/stdlib/v1.8/SparseArrays/src/linalg.jl:15\n",
       "[16] +(A::Symmetric, B::AbstractSparseMatrix) in SparseArrays at /home/alexis/julia/julia-1.8.3/share/julia/stdlib/v1.8/SparseArrays/src/linalg.jl:18\n",
       "[17] +(A::Symmetric{<:Real, <:AbstractSparseMatrix}, B::Hermitian{<:Any, <:AbstractSparseMatrix}) in SparseArrays at /home/alexis/julia/julia-1.8.3/share/julia/stdlib/v1.8/SparseArrays/src/linalg.jl:25\n",
       "[18] +(A::Symmetric{var\"#s884\", S} where {var\"#s884\"<:Real, S<:(AbstractMatrix{<:var\"#s884\"})}, B::Hermitian) in LinearAlgebra at /home/alexis/julia/julia-1.8.3/share/julia/stdlib/v1.8/LinearAlgebra/src/symmetric.jl:484\n",
       "[19] +(A::Symmetric{<:Any, <:AbstractSparseMatrix}, B::Hermitian{<:Any, <:AbstractSparseMatrix}) in SparseArrays at /home/alexis/julia/julia-1.8.3/share/julia/stdlib/v1.8/SparseArrays/src/linalg.jl:23\n",
       "[20] +(x::T, y::Integer) where T<:AbstractChar in Base at char.jl:237\n",
       "[21] +(A::SparseArrays.AbstractSparseMatrixCSC, B::SparseArrays.AbstractSparseMatrixCSC) in SparseArrays at /home/alexis/julia/julia-1.8.3/share/julia/stdlib/v1.8/SparseArrays/src/sparsematrix.jl:1829\n",
       "[22] +(A::SparseArrays.AbstractSparseMatrixCSC, B::Array) in SparseArrays at /home/alexis/julia/julia-1.8.3/share/julia/stdlib/v1.8/SparseArrays/src/sparsematrix.jl:1832\n",
       "[23] +(A::SparseArrays.AbstractSparseMatrixCSC, J::UniformScaling) in SparseArrays at /home/alexis/julia/julia-1.8.3/share/julia/stdlib/v1.8/SparseArrays/src/sparsematrix.jl:3821\n",
       "[24] +(y::AbstractFloat, x::Bool) in Base at bool.jl:172\n",
       "[25] +(r1::OrdinalRange, r2::OrdinalRange) in Base at range.jl:1423\n",
       "[26] +(A::BitArray, B::BitArray) in Base at bitarray.jl:1184\n",
       "[27] +(x::Base.TwicePrecision, y::Number) in Base at twiceprecision.jl:290\n",
       "[28] +(x::Base.TwicePrecision{T}, y::Base.TwicePrecision{T}) where T in Base at twiceprecision.jl:296\n",
       "[29] +(x::Base.TwicePrecision, y::Base.TwicePrecision) in Base at twiceprecision.jl:301\n",
       "[30] +(A::UnitLowerTriangular, B::LowerTriangular) in LinearAlgebra at /home/alexis/julia/julia-1.8.3/share/julia/stdlib/v1.8/LinearAlgebra/src/triangular.jl:643\n",
       "[31] +(A::UnitLowerTriangular, B::UnitLowerTriangular) in LinearAlgebra at /home/alexis/julia/julia-1.8.3/share/julia/stdlib/v1.8/LinearAlgebra/src/triangular.jl:645\n",
       "[32] +(UL::UnitLowerTriangular, J::UniformScaling) in LinearAlgebra at /home/alexis/julia/julia-1.8.3/share/julia/stdlib/v1.8/LinearAlgebra/src/uniformscaling.jl:181\n",
       "[33] +(A::UnitLowerTriangular, B::Bidiagonal) in LinearAlgebra at /home/alexis/julia/julia-1.8.3/share/julia/stdlib/v1.8/LinearAlgebra/src/special.jl:98\n",
       "[34] +(x::Rational, y::Integer) in Base at rational.jl:313\n",
       "[35] +(A::UpperHessenberg, B::UpperHessenberg) in LinearAlgebra at /home/alexis/julia/julia-1.8.3/share/julia/stdlib/v1.8/LinearAlgebra/src/hessenberg.jl:101\n",
       "[36] +(H::UpperHessenberg, x::UniformScaling) in LinearAlgebra at /home/alexis/julia/julia-1.8.3/share/julia/stdlib/v1.8/LinearAlgebra/src/hessenberg.jl:108\n",
       "[37] +(H::UpperHessenberg, x::Diagonal) in LinearAlgebra at /home/alexis/julia/julia-1.8.3/share/julia/stdlib/v1.8/LinearAlgebra/src/hessenberg.jl:108\n",
       "[38] +(H::UpperHessenberg, x::Bidiagonal) in LinearAlgebra at /home/alexis/julia/julia-1.8.3/share/julia/stdlib/v1.8/LinearAlgebra/src/hessenberg.jl:108\n",
       "[39] +(H::UpperHessenberg, x::Tridiagonal) in LinearAlgebra at /home/alexis/julia/julia-1.8.3/share/julia/stdlib/v1.8/LinearAlgebra/src/hessenberg.jl:108\n",
       "[40] +(H::UpperHessenberg, x::SymTridiagonal) in LinearAlgebra at /home/alexis/julia/julia-1.8.3/share/julia/stdlib/v1.8/LinearAlgebra/src/hessenberg.jl:108\n",
       "[41] +(H::UpperHessenberg, x::UpperTriangular) in LinearAlgebra at /home/alexis/julia/julia-1.8.3/share/julia/stdlib/v1.8/LinearAlgebra/src/hessenberg.jl:108\n",
       "[42] +(H::UpperHessenberg, x::UnitUpperTriangular) in LinearAlgebra at /home/alexis/julia/julia-1.8.3/share/julia/stdlib/v1.8/LinearAlgebra/src/hessenberg.jl:108\n",
       "[43] +(A::UnitUpperTriangular, B::UpperTriangular) in LinearAlgebra at /home/alexis/julia/julia-1.8.3/share/julia/stdlib/v1.8/LinearAlgebra/src/triangular.jl:642\n",
       "[44] +(A::UnitUpperTriangular, B::UnitUpperTriangular) in LinearAlgebra at /home/alexis/julia/julia-1.8.3/share/julia/stdlib/v1.8/LinearAlgebra/src/triangular.jl:644\n",
       "[45] +(UL::UnitUpperTriangular, J::UniformScaling) in LinearAlgebra at /home/alexis/julia/julia-1.8.3/share/julia/stdlib/v1.8/LinearAlgebra/src/uniformscaling.jl:181\n",
       "[46] +(x::UnitUpperTriangular, H::UpperHessenberg) in LinearAlgebra at /home/alexis/julia/julia-1.8.3/share/julia/stdlib/v1.8/LinearAlgebra/src/hessenberg.jl:109\n",
       "[47] +(A::UnitUpperTriangular, B::Bidiagonal) in LinearAlgebra at /home/alexis/julia/julia-1.8.3/share/julia/stdlib/v1.8/LinearAlgebra/src/special.jl:98\n",
       "[48] +(Da::Diagonal, Db::Diagonal) in LinearAlgebra at /home/alexis/julia/julia-1.8.3/share/julia/stdlib/v1.8/LinearAlgebra/src/diagonal.jl:184\n",
       "[49] +(D::Diagonal, S::Symmetric) in LinearAlgebra at /home/alexis/julia/julia-1.8.3/share/julia/stdlib/v1.8/LinearAlgebra/src/diagonal.jl:188\n",
       "[50] +(D::Diagonal{var\"#s885\", V} where {var\"#s885\"<:Real, V<:AbstractVector{var\"#s885\"}}, H::Hermitian) in LinearAlgebra at /home/alexis/julia/julia-1.8.3/share/julia/stdlib/v1.8/LinearAlgebra/src/diagonal.jl:194\n",
       "[51] +(x::Diagonal, H::UpperHessenberg) in LinearAlgebra at /home/alexis/julia/julia-1.8.3/share/julia/stdlib/v1.8/LinearAlgebra/src/hessenberg.jl:109\n",
       "[52] +(A::Diagonal, B::Bidiagonal) in LinearAlgebra at /home/alexis/julia/julia-1.8.3/share/julia/stdlib/v1.8/LinearAlgebra/src/special.jl:137\n",
       "[53] +(A::Diagonal, B::SymTridiagonal) in LinearAlgebra at /home/alexis/julia/julia-1.8.3/share/julia/stdlib/v1.8/LinearAlgebra/src/special.jl:147\n",
       "[54] +(A::Diagonal, B::Tridiagonal) in LinearAlgebra at /home/alexis/julia/julia-1.8.3/share/julia/stdlib/v1.8/LinearAlgebra/src/special.jl:175\n",
       "[55] +(A::Diagonal{var\"#s885\", V} where {var\"#s885\"<:Number, V<:AbstractVector{var\"#s885\"}}, B::UniformScaling) in LinearAlgebra at /home/alexis/julia/julia-1.8.3/share/julia/stdlib/v1.8/LinearAlgebra/src/special.jl:253\n",
       "[56] +(x::AbstractSparseVector, y::AbstractSparseVector) in SparseArrays at /home/alexis/julia/julia-1.8.3/share/julia/stdlib/v1.8/SparseArrays/src/sparsevector.jl:1392\n",
       "[57] +(A::AbstractSparseMatrix, B::Hermitian{<:Any, <:AbstractSparseMatrix}) in SparseArrays at /home/alexis/julia/julia-1.8.3/share/julia/stdlib/v1.8/SparseArrays/src/linalg.jl:14\n",
       "[58] +(A::AbstractSparseMatrix, B::Hermitian) in SparseArrays at /home/alexis/julia/julia-1.8.3/share/julia/stdlib/v1.8/SparseArrays/src/linalg.jl:17\n",
       "[59] +(A::AbstractSparseMatrix, B::Symmetric{<:Any, <:AbstractSparseMatrix}) in SparseArrays at /home/alexis/julia/julia-1.8.3/share/julia/stdlib/v1.8/SparseArrays/src/linalg.jl:14\n",
       "[60] +(A::AbstractSparseMatrix, B::Symmetric) in SparseArrays at /home/alexis/julia/julia-1.8.3/share/julia/stdlib/v1.8/SparseArrays/src/linalg.jl:17\n",
       "[61] +(index1::CartesianIndex{N}, index2::CartesianIndex{N}) where N in Base.IteratorsMD at multidimensional.jl:114\n",
       "[62] +(r1::LinRange{T}, r2::LinRange{T}) where T in Base at range.jl:1430\n",
       "[63] +(r1::Union{LinRange, OrdinalRange, StepRangeLen}, r2::Union{LinRange, OrdinalRange, StepRangeLen}) in Base at range.jl:1439\n",
       "[64] +(r::AbstractRange{<:Dates.TimeType}, x::Dates.Period) in Dates at /home/alexis/julia/julia-1.8.3/share/julia/stdlib/v1.8/Dates/src/ranges.jl:64\n",
       "[65] +(x::AbstractArray{<:Dates.TimeType}, y::Union{Dates.CompoundPeriod, Dates.Period}) in Dates at /home/alexis/julia/julia-1.8.3/share/julia/stdlib/v1.8/Dates/src/deprecated.jl:6\n",
       "[66] +(J::UniformScaling) in LinearAlgebra at /home/alexis/julia/julia-1.8.3/share/julia/stdlib/v1.8/LinearAlgebra/src/uniformscaling.jl:149\n",
       "[67] +(J::UniformScaling, x::Number) in LinearAlgebra at /home/alexis/julia/julia-1.8.3/share/julia/stdlib/v1.8/LinearAlgebra/src/uniformscaling.jl:144\n",
       "[68] +(J1::UniformScaling, J2::UniformScaling) in LinearAlgebra at /home/alexis/julia/julia-1.8.3/share/julia/stdlib/v1.8/LinearAlgebra/src/uniformscaling.jl:150\n",
       "[69] +(J::UniformScaling, B::BitMatrix) in LinearAlgebra at /home/alexis/julia/julia-1.8.3/share/julia/stdlib/v1.8/LinearAlgebra/src/uniformscaling.jl:152\n",
       "[70] +(x::UniformScaling, H::UpperHessenberg) in LinearAlgebra at /home/alexis/julia/julia-1.8.3/share/julia/stdlib/v1.8/LinearAlgebra/src/hessenberg.jl:109\n",
       "[71] +(J::UniformScaling, F::Hessenberg) in LinearAlgebra at /home/alexis/julia/julia-1.8.3/share/julia/stdlib/v1.8/LinearAlgebra/src/hessenberg.jl:642\n",
       "[72] +(A::UniformScaling, B::Tridiagonal{var\"#s885\", V} where {var\"#s885\"<:Number, V<:AbstractVector{var\"#s885\"}}) in LinearAlgebra at /home/alexis/julia/julia-1.8.3/share/julia/stdlib/v1.8/LinearAlgebra/src/special.jl:257\n",
       "[73] +(A::UniformScaling, B::SymTridiagonal{var\"#s885\", V} where {var\"#s885\"<:Number, V<:AbstractVector{var\"#s885\"}}) in LinearAlgebra at /home/alexis/julia/julia-1.8.3/share/julia/stdlib/v1.8/LinearAlgebra/src/special.jl:262\n",
       "[74] +(A::UniformScaling, B::Bidiagonal{var\"#s885\", V} where {var\"#s885\"<:Number, V<:AbstractVector{var\"#s885\"}}) in LinearAlgebra at /home/alexis/julia/julia-1.8.3/share/julia/stdlib/v1.8/LinearAlgebra/src/special.jl:267\n",
       "[75] +(A::UniformScaling, B::Diagonal{var\"#s885\", V} where {var\"#s885\"<:Number, V<:AbstractVector{var\"#s885\"}}) in LinearAlgebra at /home/alexis/julia/julia-1.8.3/share/julia/stdlib/v1.8/LinearAlgebra/src/special.jl:272\n",
       "[76] +(J::UniformScaling, A::AbstractMatrix) in LinearAlgebra at /home/alexis/julia/julia-1.8.3/share/julia/stdlib/v1.8/LinearAlgebra/src/uniformscaling.jl:153\n",
       "[77] +(A::Bidiagonal, B::Bidiagonal) in LinearAlgebra at /home/alexis/julia/julia-1.8.3/share/julia/stdlib/v1.8/LinearAlgebra/src/bidiag.jl:365\n",
       "[78] +(x::Bidiagonal, H::UpperHessenberg) in LinearAlgebra at /home/alexis/julia/julia-1.8.3/share/julia/stdlib/v1.8/LinearAlgebra/src/hessenberg.jl:109\n",
       "[79] +(A::Bidiagonal, B::UpperTriangular) in LinearAlgebra at /home/alexis/julia/julia-1.8.3/share/julia/stdlib/v1.8/LinearAlgebra/src/special.jl:106\n",
       "[80] +(A::Bidiagonal, B::UnitUpperTriangular) in LinearAlgebra at /home/alexis/julia/julia-1.8.3/share/julia/stdlib/v1.8/LinearAlgebra/src/special.jl:106\n",
       "[81] +(A::Bidiagonal, B::LowerTriangular) in LinearAlgebra at /home/alexis/julia/julia-1.8.3/share/julia/stdlib/v1.8/LinearAlgebra/src/special.jl:106\n",
       "[82] +(A::Bidiagonal, B::UnitLowerTriangular) in LinearAlgebra at /home/alexis/julia/julia-1.8.3/share/julia/stdlib/v1.8/LinearAlgebra/src/special.jl:106\n",
       "[83] +(A::Bidiagonal, B::Diagonal) in LinearAlgebra at /home/alexis/julia/julia-1.8.3/share/julia/stdlib/v1.8/LinearAlgebra/src/special.jl:127\n",
       "[84] +(A::Bidiagonal, B::Tridiagonal) in LinearAlgebra at /home/alexis/julia/julia-1.8.3/share/julia/stdlib/v1.8/LinearAlgebra/src/special.jl:195\n",
       "[85] +(A::Bidiagonal, B::SymTridiagonal) in LinearAlgebra at /home/alexis/julia/julia-1.8.3/share/julia/stdlib/v1.8/LinearAlgebra/src/special.jl:215\n",
       "[86] +(A::Bidiagonal{var\"#s885\", V} where {var\"#s885\"<:Number, V<:AbstractVector{var\"#s885\"}}, B::UniformScaling) in LinearAlgebra at /home/alexis/julia/julia-1.8.3/share/julia/stdlib/v1.8/LinearAlgebra/src/special.jl:248\n",
       "[87] +(x::Dates.Instant) in Dates at /home/alexis/julia/julia-1.8.3/share/julia/stdlib/v1.8/Dates/src/arithmetic.jl:4\n",
       "[88] +(x::Ptr, y::Integer) in Base at pointer.jl:159\n",
       "[89] +(A::Tridiagonal, B::Tridiagonal) in LinearAlgebra at /home/alexis/julia/julia-1.8.3/share/julia/stdlib/v1.8/LinearAlgebra/src/tridiag.jl:741\n",
       "[90] +(x::Tridiagonal, H::UpperHessenberg) in LinearAlgebra at /home/alexis/julia/julia-1.8.3/share/julia/stdlib/v1.8/LinearAlgebra/src/hessenberg.jl:109\n",
       "[91] +(A::Tridiagonal, B::SymTridiagonal) in LinearAlgebra at /home/alexis/julia/julia-1.8.3/share/julia/stdlib/v1.8/LinearAlgebra/src/special.jl:169\n",
       "[92] +(A::Tridiagonal, B::Diagonal) in LinearAlgebra at /home/alexis/julia/julia-1.8.3/share/julia/stdlib/v1.8/LinearAlgebra/src/special.jl:185\n",
       "[93] +(A::Tridiagonal, B::Bidiagonal) in LinearAlgebra at /home/alexis/julia/julia-1.8.3/share/julia/stdlib/v1.8/LinearAlgebra/src/special.jl:205\n",
       "[94] +(A::Tridiagonal{var\"#s885\", V} where {var\"#s885\"<:Number, V<:AbstractVector{var\"#s885\"}}, B::UniformScaling) in LinearAlgebra at /home/alexis/julia/julia-1.8.3/share/julia/stdlib/v1.8/LinearAlgebra/src/special.jl:238\n",
       "[95] +(A::Hermitian, B::Hermitian) in LinearAlgebra at /home/alexis/julia/julia-1.8.3/share/julia/stdlib/v1.8/LinearAlgebra/src/symmetric.jl:469\n",
       "[96] +(A::Hermitian, B::SymTridiagonal{var\"#s882\", V} where {var\"#s882\"<:Real, V<:AbstractVector{var\"#s882\"}}) in LinearAlgebra at /home/alexis/julia/julia-1.8.3/share/julia/stdlib/v1.8/LinearAlgebra/src/symmetric.jl:488\n",
       "[97] +(H::Hermitian, D::Diagonal{var\"#s885\", V} where {var\"#s885\"<:Real, V<:AbstractVector{var\"#s885\"}}) in LinearAlgebra at /home/alexis/julia/julia-1.8.3/share/julia/stdlib/v1.8/LinearAlgebra/src/diagonal.jl:197\n",
       "[98] +(A::Hermitian, J::UniformScaling{<:Complex}) in LinearAlgebra at /home/alexis/julia/julia-1.8.3/share/julia/stdlib/v1.8/LinearAlgebra/src/uniformscaling.jl:195\n",
       "[99] +(A::Hermitian{<:Any, <:AbstractSparseMatrix}, B::AbstractSparseMatrix) in SparseArrays at /home/alexis/julia/julia-1.8.3/share/julia/stdlib/v1.8/SparseArrays/src/linalg.jl:15\n",
       "[100] +(A::Hermitian, B::AbstractSparseMatrix) in SparseArrays at /home/alexis/julia/julia-1.8.3/share/julia/stdlib/v1.8/SparseArrays/src/linalg.jl:18\n",
       "[101] +(A::Hermitian{<:Any, <:AbstractSparseMatrix}, B::Symmetric{<:Real, <:AbstractSparseMatrix}) in SparseArrays at /home/alexis/julia/julia-1.8.3/share/julia/stdlib/v1.8/SparseArrays/src/linalg.jl:26\n",
       "[102] +(A::Hermitian, B::Symmetric{var\"#s885\", S} where {var\"#s885\"<:Real, S<:(AbstractMatrix{<:var\"#s885\"})}) in LinearAlgebra at /home/alexis/julia/julia-1.8.3/share/julia/stdlib/v1.8/LinearAlgebra/src/symmetric.jl:483\n",
       "[103] +(A::Hermitian{<:Any, <:AbstractSparseMatrix}, B::Symmetric{<:Any, <:AbstractSparseMatrix}) in SparseArrays at /home/alexis/julia/julia-1.8.3/share/julia/stdlib/v1.8/SparseArrays/src/linalg.jl:24\n",
       "[104] +(x::P, y::P) where P<:Dates.Period in Dates at /home/alexis/julia/julia-1.8.3/share/julia/stdlib/v1.8/Dates/src/periods.jl:77\n",
       "[105] +(x::Dates.Period, y::Dates.Period) in Dates at /home/alexis/julia/julia-1.8.3/share/julia/stdlib/v1.8/Dates/src/periods.jl:367\n",
       "[106] +(y::Dates.Period, x::Dates.CompoundPeriod) in Dates at /home/alexis/julia/julia-1.8.3/share/julia/stdlib/v1.8/Dates/src/periods.jl:369\n",
       "[107] +(y::Dates.Period, x::Dates.TimeType) in Dates at /home/alexis/julia/julia-1.8.3/share/julia/stdlib/v1.8/Dates/src/arithmetic.jl:85\n",
       "[108] +(x::Dates.Period, r::AbstractRange{<:Dates.TimeType}) in Dates at /home/alexis/julia/julia-1.8.3/share/julia/stdlib/v1.8/Dates/src/ranges.jl:63\n",
       "[109] +(y::Union{Dates.CompoundPeriod, Dates.Period}, x::AbstractArray{<:Dates.TimeType}) in Dates at /home/alexis/julia/julia-1.8.3/share/julia/stdlib/v1.8/Dates/src/deprecated.jl:14\n",
       "[110] +(z::Complex, w::Complex) in Base at complex.jl:288\n",
       "[111] +(y::Dates.TimeType, x::StridedArray{<:Union{Dates.CompoundPeriod, Dates.Period}}) in Dates at /home/alexis/julia/julia-1.8.3/share/julia/stdlib/v1.8/Dates/src/deprecated.jl:18\n",
       "[112] +(A::SymTridiagonal, B::SymTridiagonal) in LinearAlgebra at /home/alexis/julia/julia-1.8.3/share/julia/stdlib/v1.8/LinearAlgebra/src/tridiag.jl:207\n",
       "[113] +(A::SymTridiagonal, B::Symmetric) in LinearAlgebra at /home/alexis/julia/julia-1.8.3/share/julia/stdlib/v1.8/LinearAlgebra/src/symmetric.jl:485\n",
       "[114] +(A::SymTridiagonal{var\"#s883\", V} where {var\"#s883\"<:Real, V<:AbstractVector{var\"#s883\"}}, B::Hermitian) in LinearAlgebra at /home/alexis/julia/julia-1.8.3/share/julia/stdlib/v1.8/LinearAlgebra/src/symmetric.jl:487\n",
       "[115] +(x::SymTridiagonal, H::UpperHessenberg) in LinearAlgebra at /home/alexis/julia/julia-1.8.3/share/julia/stdlib/v1.8/LinearAlgebra/src/hessenberg.jl:109\n",
       "[116] +(A::SymTridiagonal, B::Diagonal) in LinearAlgebra at /home/alexis/julia/julia-1.8.3/share/julia/stdlib/v1.8/LinearAlgebra/src/special.jl:157\n",
       "[117] +(A::SymTridiagonal, B::Tridiagonal) in LinearAlgebra at /home/alexis/julia/julia-1.8.3/share/julia/stdlib/v1.8/LinearAlgebra/src/special.jl:171\n",
       "[118] +(A::SymTridiagonal, B::Bidiagonal) in LinearAlgebra at /home/alexis/julia/julia-1.8.3/share/julia/stdlib/v1.8/LinearAlgebra/src/special.jl:225\n",
       "[119] +(A::SymTridiagonal{var\"#s885\", V} where {var\"#s885\"<:Number, V<:AbstractVector{var\"#s885\"}}, B::UniformScaling) in LinearAlgebra at /home/alexis/julia/julia-1.8.3/share/julia/stdlib/v1.8/LinearAlgebra/src/special.jl:243\n",
       "[120] +(A::LowerTriangular, B::LowerTriangular) in LinearAlgebra at /home/alexis/julia/julia-1.8.3/share/julia/stdlib/v1.8/LinearAlgebra/src/triangular.jl:639\n",
       "[121] +(A::LowerTriangular, B::UnitLowerTriangular) in LinearAlgebra at /home/alexis/julia/julia-1.8.3/share/julia/stdlib/v1.8/LinearAlgebra/src/triangular.jl:641\n",
       "[122] +(A::LowerTriangular, B::Bidiagonal) in LinearAlgebra at /home/alexis/julia/julia-1.8.3/share/julia/stdlib/v1.8/LinearAlgebra/src/special.jl:98\n",
       "[123] +(A::UpperTriangular, B::UpperTriangular) in LinearAlgebra at /home/alexis/julia/julia-1.8.3/share/julia/stdlib/v1.8/LinearAlgebra/src/triangular.jl:638\n",
       "[124] +(A::UpperTriangular, B::UnitUpperTriangular) in LinearAlgebra at /home/alexis/julia/julia-1.8.3/share/julia/stdlib/v1.8/LinearAlgebra/src/triangular.jl:640\n",
       "[125] +(A::LinearAlgebra.AbstractTriangular, B::LinearAlgebra.AbstractTriangular) in LinearAlgebra at /home/alexis/julia/julia-1.8.3/share/julia/stdlib/v1.8/LinearAlgebra/src/triangular.jl:646\n",
       "[126] +(x::UpperTriangular, H::UpperHessenberg) in LinearAlgebra at /home/alexis/julia/julia-1.8.3/share/julia/stdlib/v1.8/LinearAlgebra/src/hessenberg.jl:109\n",
       "[127] +(A::UpperTriangular, B::Bidiagonal) in LinearAlgebra at /home/alexis/julia/julia-1.8.3/share/julia/stdlib/v1.8/LinearAlgebra/src/special.jl:98\n",
       "[128] +(x::AbstractIrrational, y::AbstractIrrational) in Base at irrationals.jl:158\n",
       "[129] +(A::Array, Bs::Array...) in Base at arraymath.jl:12\n",
       "[130] +(X::StridedArray{<:Union{Dates.CompoundPeriod, Dates.Period}}, Y::StridedArray{<:Union{Dates.CompoundPeriod, Dates.Period}}) in Dates at /home/alexis/julia/julia-1.8.3/share/julia/stdlib/v1.8/Dates/src/deprecated.jl:62\n",
       "[131] +(A::Array, B::SparseArrays.AbstractSparseMatrixCSC) in SparseArrays at /home/alexis/julia/julia-1.8.3/share/julia/stdlib/v1.8/SparseArrays/src/sparsematrix.jl:1833\n",
       "[132] +(x::StridedArray{<:Union{Dates.CompoundPeriod, Dates.Period}}) in Dates at /home/alexis/julia/julia-1.8.3/share/julia/stdlib/v1.8/Dates/src/deprecated.jl:55\n",
       "[133] +(x::StridedArray{<:Union{Dates.CompoundPeriod, Dates.Period}}, y::Dates.TimeType) in Dates at /home/alexis/julia/julia-1.8.3/share/julia/stdlib/v1.8/Dates/src/deprecated.jl:10\n",
       "[134] +(A::AbstractArray, B::AbstractArray) in Base at arraymath.jl:6\n",
       "[135] +(x::BigFloat, c::Union{UInt16, UInt32, UInt64, UInt8}) in Base.MPFR at mpfr.jl:393\n",
       "[136] +(x::BigFloat, c::Union{Int16, Int32, Int64, Int8}) in Base.MPFR at mpfr.jl:401\n",
       "[137] +(x::BigFloat, c::Union{Float16, Float32, Float64}) in Base.MPFR at mpfr.jl:409\n",
       "[138] +(x::BigFloat, y::BigFloat) in Base.MPFR at mpfr.jl:386\n",
       "[139] +(x::BigFloat, c::BigInt) in Base.MPFR at mpfr.jl:417\n",
       "[140] +(a::BigFloat, b::BigFloat, c::BigFloat) in Base.MPFR at mpfr.jl:558\n",
       "[141] +(a::BigFloat, b::BigFloat, c::BigFloat, d::BigFloat) in Base.MPFR at mpfr.jl:564\n",
       "[142] +(a::BigFloat, b::BigFloat, c::BigFloat, d::BigFloat, e::BigFloat) in Base.MPFR at mpfr.jl:571\n",
       "[143] +(x::BigInt, c::Union{UInt16, UInt32, UInt64, UInt8}) in Base.GMP at gmp.jl:530\n",
       "[144] +(x::BigInt, c::Union{Int16, Int32, Int64, Int8}) in Base.GMP at gmp.jl:536\n",
       "[145] +(x::BigInt, y::BigInt) in Base.GMP at gmp.jl:482\n",
       "[146] +(a::BigInt, b::BigInt, c::BigInt) in Base.GMP at gmp.jl:522\n",
       "[147] +(a::BigInt, b::BigInt, c::BigInt, d::BigInt) in Base.GMP at gmp.jl:523\n",
       "[148] +(a::BigInt, b::BigInt, c::BigInt, d::BigInt, e::BigInt) in Base.GMP at gmp.jl:524\n",
       "[149] +(x::BigInt, y::BigInt, rest::BigInt...) in Base.GMP at gmp.jl:657\n",
       "[150] +(c::BigInt, x::BigFloat) in Base.MPFR at mpfr.jl:422\n",
       "[151] +(x::Rational{BigInt}, y::Rational{BigInt}) in Base.GMP.MPQ at gmp.jl:922\n",
       "[152] +(x::Rational) in Base at rational.jl:270\n",
       "[153] +(x::Rational, y::Rational) in Base at rational.jl:284\n",
       "[154] +(level::Base.CoreLogging.LogLevel, inc::Integer) in Base.CoreLogging at logging.jl:131\n",
       "[155] +(x::Bool) in Base at bool.jl:159\n",
       "[156] +(x::Integer, y::Ptr) in Base at pointer.jl:161\n",
       "[157] +(y::Integer, x::Rational) in Base at rational.jl:320\n",
       "[158] +(x::Integer, y::AbstractChar) in Base at char.jl:247\n",
       "[159] +(x::Bool, y::T) where T<:AbstractFloat in Base at bool.jl:169\n",
       "[160] +(x::Bool, y::Bool) in Base at bool.jl:162\n",
       "[161] +(a::Integer, b::Integer) in Base at int.jl:987\n",
       "[162] +(x::Bool, z::Complex{Bool}) in Base at complex.jl:299\n",
       "[163] +(x::Real, z::Complex{Bool}) in Base at complex.jl:313\n",
       "[164] +(x::Bool, z::Complex) in Base at complex.jl:306\n",
       "[165] +(x::Real, z::Complex) in Base at complex.jl:325\n",
       "[166] +(::Missing) in Base at missing.jl:101\n",
       "[167] +(::Missing, ::Number) in Base at missing.jl:123\n",
       "[168] +(x::Missing, y::Dates.AbstractTime) in Dates at /home/alexis/julia/julia-1.8.3/share/julia/stdlib/v1.8/Dates/src/arithmetic.jl:89\n",
       "[169] +(::Missing, ::Missing) in Base at missing.jl:122\n",
       "[170] +(z::Complex{Bool}, x::Bool) in Base at complex.jl:300\n",
       "[171] +(z::Complex, x::Bool) in Base at complex.jl:307\n",
       "[172] +(z::Complex{Bool}, x::Real) in Base at complex.jl:314\n",
       "[173] +(z::Complex) in Base at complex.jl:286\n",
       "[174] +(x::Number, y::Base.TwicePrecision) in Base at twiceprecision.jl:294\n",
       "[175] +(::Number, ::Missing) in Base at missing.jl:124\n",
       "[176] +(x::Number, J::UniformScaling) in LinearAlgebra at /home/alexis/julia/julia-1.8.3/share/julia/stdlib/v1.8/LinearAlgebra/src/uniformscaling.jl:145\n",
       "[177] +(z::Complex, x::Real) in Base at complex.jl:326\n",
       "[178] +(x::Number) in Base at operators.jl:528\n",
       "[179] +(x::T, y::T) where T<:Number in Base at promotion.jl:463\n",
       "[180] +(x::Number, y::Number) in Base at promotion.jl:388\n",
       "[181] +(a::Pkg.Resolve.FieldValue, b::Pkg.Resolve.FieldValue) in Pkg.Resolve at /home/alexis/julia/julia-1.8.3/share/julia/stdlib/v1.8/Pkg/src/Resolve/fieldvalues.jl:43\n",
       "[182] +(dt::Dates.DateTime, y::Dates.Year) in Dates at /home/alexis/julia/julia-1.8.3/share/julia/stdlib/v1.8/Dates/src/arithmetic.jl:23\n",
       "[183] +(dt::Dates.DateTime, z::Dates.Month) in Dates at /home/alexis/julia/julia-1.8.3/share/julia/stdlib/v1.8/Dates/src/arithmetic.jl:47\n",
       "[184] +(x::Dates.DateTime, y::Dates.Quarter) in Dates at /home/alexis/julia/julia-1.8.3/share/julia/stdlib/v1.8/Dates/src/arithmetic.jl:75\n",
       "[185] +(x::Dates.DateTime, y::Dates.Period) in Dates at /home/alexis/julia/julia-1.8.3/share/julia/stdlib/v1.8/Dates/src/arithmetic.jl:81\n",
       "[186] +(a::Pkg.Resolve.VersionWeight, b::Pkg.Resolve.VersionWeight) in Pkg.Resolve at /home/alexis/julia/julia-1.8.3/share/julia/stdlib/v1.8/Pkg/src/Resolve/versionweights.jl:22\n",
       "[187] +(x::Dates.Time, y::Dates.TimePeriod) in Dates at /home/alexis/julia/julia-1.8.3/share/julia/stdlib/v1.8/Dates/src/arithmetic.jl:83\n",
       "[188] +(t::Dates.Time, dt::Dates.Date) in Dates at /home/alexis/julia/julia-1.8.3/share/julia/stdlib/v1.8/Dates/src/arithmetic.jl:20\n",
       "[189] +(dt::Dates.Date, t::Dates.Time) in Dates at /home/alexis/julia/julia-1.8.3/share/julia/stdlib/v1.8/Dates/src/arithmetic.jl:19\n",
       "[190] +(dt::Dates.Date, y::Dates.Year) in Dates at /home/alexis/julia/julia-1.8.3/share/julia/stdlib/v1.8/Dates/src/arithmetic.jl:27\n",
       "[191] +(dt::Dates.Date, z::Dates.Month) in Dates at /home/alexis/julia/julia-1.8.3/share/julia/stdlib/v1.8/Dates/src/arithmetic.jl:54\n",
       "[192] +(x::Dates.Date, y::Dates.Quarter) in Dates at /home/alexis/julia/julia-1.8.3/share/julia/stdlib/v1.8/Dates/src/arithmetic.jl:73\n",
       "[193] +(x::Dates.Date, y::Dates.Week) in Dates at /home/alexis/julia/julia-1.8.3/share/julia/stdlib/v1.8/Dates/src/arithmetic.jl:77\n",
       "[194] +(x::Dates.Date, y::Dates.Day) in Dates at /home/alexis/julia/julia-1.8.3/share/julia/stdlib/v1.8/Dates/src/arithmetic.jl:79\n",
       "[195] +(x::Dates.TimeType) in Dates at /home/alexis/julia/julia-1.8.3/share/julia/stdlib/v1.8/Dates/src/arithmetic.jl:8\n",
       "[196] +(x::Dates.AbstractTime, y::Missing) in Dates at /home/alexis/julia/julia-1.8.3/share/julia/stdlib/v1.8/Dates/src/arithmetic.jl:88\n",
       "[197] +(a::Dates.TimeType, b::Dates.Period, c::Dates.Period) in Dates at /home/alexis/julia/julia-1.8.3/share/julia/stdlib/v1.8/Dates/src/periods.jl:389\n",
       "[198] +(a::Dates.TimeType, b::Dates.Period, c::Dates.Period, d::Dates.Period...) in Dates at /home/alexis/julia/julia-1.8.3/share/julia/stdlib/v1.8/Dates/src/periods.jl:390\n",
       "[199] +(x::Dates.TimeType, y::Dates.CompoundPeriod) in Dates at /home/alexis/julia/julia-1.8.3/share/julia/stdlib/v1.8/Dates/src/periods.jl:392\n",
       "[200] +(B::BitMatrix, J::UniformScaling) in LinearAlgebra at /home/alexis/julia/julia-1.8.3/share/julia/stdlib/v1.8/LinearAlgebra/src/uniformscaling.jl:151\n",
       "[201] +(A::AbstractMatrix, J::UniformScaling) in LinearAlgebra at /home/alexis/julia/julia-1.8.3/share/julia/stdlib/v1.8/LinearAlgebra/src/uniformscaling.jl:214\n",
       "[202] +(x::AbstractArray{<:Number}) in Base at abstractarraymath.jl:220\n",
       "[203] +(x::Dates.CompoundPeriod, y::Dates.Period) in Dates at /home/alexis/julia/julia-1.8.3/share/julia/stdlib/v1.8/Dates/src/periods.jl:368\n",
       "[204] +(x::Dates.CompoundPeriod, y::Dates.TimeType) in Dates at /home/alexis/julia/julia-1.8.3/share/julia/stdlib/v1.8/Dates/src/periods.jl:398\n",
       "[205] +(x::Dates.CompoundPeriod, y::Dates.CompoundPeriod) in Dates at /home/alexis/julia/julia-1.8.3/share/julia/stdlib/v1.8/Dates/src/periods.jl:370\n",
       "[206] +(a, b, c, xs...) in Base at operators.jl:591"
      ]
     },
     "execution_count": 410,
     "metadata": {},
     "output_type": "execute_result"
    }
   ],
   "source": [
    "methods(+)"
   ]
  },
  {
   "cell_type": "markdown",
   "metadata": {
    "slideshow": {
     "slide_type": "slide"
    }
   },
   "source": [
    "## Linear algebra"
   ]
  },
  {
   "cell_type": "markdown",
   "metadata": {
    "slideshow": {
     "slide_type": "fragment"
    }
   },
   "source": [
    "To use linear algebra functions, use the `LinearAlgebra` package (part of the standard library)"
   ]
  },
  {
   "cell_type": "code",
   "execution_count": 411,
   "metadata": {},
   "outputs": [],
   "source": [
    "using LinearAlgebra"
   ]
  },
  {
   "cell_type": "markdown",
   "metadata": {
    "slideshow": {
     "slide_type": "subslide"
    }
   },
   "source": [
    "### Vectors and Matrices"
   ]
  },
  {
   "cell_type": "markdown",
   "metadata": {
    "slideshow": {
     "slide_type": "-"
    }
   },
   "source": [
    "A vector is a uni-dimensional array"
   ]
  },
  {
   "cell_type": "code",
   "execution_count": 412,
   "metadata": {},
   "outputs": [
    {
     "data": {
      "text/plain": [
       "Vector{Float32}\u001b[90m (alias for \u001b[39m\u001b[90mArray{Float32, 1}\u001b[39m\u001b[90m)\u001b[39m"
      ]
     },
     "execution_count": 412,
     "metadata": {},
     "output_type": "execute_result"
    }
   ],
   "source": [
    "Vector{Float32}"
   ]
  },
  {
   "cell_type": "code",
   "execution_count": 413,
   "metadata": {},
   "outputs": [
    {
     "data": {
      "text/plain": [
       "2-element Vector{Float64}:\n",
       " 1.0\n",
       " 2.0"
      ]
     },
     "execution_count": 413,
     "metadata": {},
     "output_type": "execute_result"
    }
   ],
   "source": [
    "x = [1.0, 2.0]"
   ]
  },
  {
   "cell_type": "markdown",
   "metadata": {
    "slideshow": {
     "slide_type": "subslide"
    }
   },
   "source": [
    "A matrix is a two-dimensional array"
   ]
  },
  {
   "cell_type": "code",
   "execution_count": 414,
   "metadata": {},
   "outputs": [
    {
     "data": {
      "text/plain": [
       "Matrix{Float64}\u001b[90m (alias for \u001b[39m\u001b[90mArray{Float64, 2}\u001b[39m\u001b[90m)\u001b[39m"
      ]
     },
     "execution_count": 414,
     "metadata": {},
     "output_type": "execute_result"
    }
   ],
   "source": [
    "Matrix{Float64}"
   ]
  },
  {
   "cell_type": "code",
   "execution_count": 415,
   "metadata": {},
   "outputs": [
    {
     "data": {
      "text/plain": [
       "2×2 Matrix{Float64}:\n",
       " 1.0  2.0\n",
       " 3.0  4.0"
      ]
     },
     "execution_count": 415,
     "metadata": {},
     "output_type": "execute_result"
    }
   ],
   "source": [
    "A = [\n",
    "    1.0 2.0;\n",
    "    3.0 4.0\n",
    "]"
   ]
  },
  {
   "cell_type": "markdown",
   "metadata": {
    "slideshow": {
     "slide_type": "subslide"
    }
   },
   "source": [
    "### Linear algebra operations"
   ]
  },
  {
   "cell_type": "markdown",
   "metadata": {
    "slideshow": {
     "slide_type": "-"
    }
   },
   "source": [
    "Matrix-vector products work out of the box"
   ]
  },
  {
   "cell_type": "code",
   "execution_count": 416,
   "metadata": {
    "slideshow": {
     "slide_type": "-"
    }
   },
   "outputs": [
    {
     "data": {
      "text/plain": [
       "2-element Vector{Float64}:\n",
       "  5.0\n",
       " 11.0"
      ]
     },
     "execution_count": 416,
     "metadata": {},
     "output_type": "execute_result"
    }
   ],
   "source": [
    "A * x  # mul!(y, A, x) for an in-place variant"
   ]
  },
  {
   "cell_type": "markdown",
   "metadata": {
    "slideshow": {
     "slide_type": "subslide"
    }
   },
   "source": [
    "Solve linear systems"
   ]
  },
  {
   "cell_type": "code",
   "execution_count": 417,
   "metadata": {
    "slideshow": {
     "slide_type": "-"
    }
   },
   "outputs": [
    {
     "data": {
      "text/plain": [
       "2-element Vector{Float64}:\n",
       " 1.0\n",
       " 2.0"
      ]
     },
     "execution_count": 417,
     "metadata": {},
     "output_type": "execute_result"
    }
   ],
   "source": [
    "b = A * x\n",
    "y = A \\ b"
   ]
  },
  {
   "cell_type": "markdown",
   "metadata": {
    "slideshow": {
     "slide_type": "subslide"
    }
   },
   "source": [
    "You can't multiply two vectors"
   ]
  },
  {
   "cell_type": "code",
   "execution_count": 418,
   "metadata": {
    "slideshow": {
     "slide_type": "-"
    }
   },
   "outputs": [
    {
     "ename": "LoadError",
     "evalue": "MethodError: no method matching *(::Vector{Float64}, ::Vector{Float64})\n\u001b[0mClosest candidates are:\n\u001b[0m  *(::Any, ::Any, \u001b[91m::Any\u001b[39m, \u001b[91m::Any...\u001b[39m) at operators.jl:591\n\u001b[0m  *(\u001b[91m::StridedMatrix{T}\u001b[39m, ::StridedVector{S}) where {T<:Union{Float32, Float64, ComplexF32, ComplexF64}, S<:Real} at ~/julia/julia-1.8.3/share/julia/stdlib/v1.8/LinearAlgebra/src/matmul.jl:49\n\u001b[0m  *(::StridedVecOrMat, \u001b[91m::Adjoint{<:Any, <:LinearAlgebra.LQPackedQ}\u001b[39m) at ~/julia/julia-1.8.3/share/julia/stdlib/v1.8/LinearAlgebra/src/lq.jl:269\n\u001b[0m  ...",
     "output_type": "error",
     "traceback": [
      "MethodError: no method matching *(::Vector{Float64}, ::Vector{Float64})\n\u001b[0mClosest candidates are:\n\u001b[0m  *(::Any, ::Any, \u001b[91m::Any\u001b[39m, \u001b[91m::Any...\u001b[39m) at operators.jl:591\n\u001b[0m  *(\u001b[91m::StridedMatrix{T}\u001b[39m, ::StridedVector{S}) where {T<:Union{Float32, Float64, ComplexF32, ComplexF64}, S<:Real} at ~/julia/julia-1.8.3/share/julia/stdlib/v1.8/LinearAlgebra/src/matmul.jl:49\n\u001b[0m  *(::StridedVecOrMat, \u001b[91m::Adjoint{<:Any, <:LinearAlgebra.LQPackedQ}\u001b[39m) at ~/julia/julia-1.8.3/share/julia/stdlib/v1.8/LinearAlgebra/src/lq.jl:269\n\u001b[0m  ...",
      "",
      "Stacktrace:",
      " [1] top-level scope",
      "   @ In[418]:1",
      " [2] eval",
      "   @ ./boot.jl:368 [inlined]",
      " [3] include_string(mapexpr::typeof(REPL.softscope), mod::Module, code::String, filename::String)",
      "   @ Base ./loading.jl:1428"
     ]
    }
   ],
   "source": [
    "x * x"
   ]
  },
  {
   "cell_type": "markdown",
   "metadata": {
    "slideshow": {
     "slide_type": "subslide"
    }
   },
   "source": [
    "But inner and outer product is OK"
   ]
  },
  {
   "cell_type": "code",
   "execution_count": 419,
   "metadata": {
    "slideshow": {
     "slide_type": "-"
    }
   },
   "outputs": [
    {
     "data": {
      "text/plain": [
       "5.0"
      ]
     },
     "execution_count": 419,
     "metadata": {},
     "output_type": "execute_result"
    }
   ],
   "source": [
    "x' * x  # inner product"
   ]
  },
  {
   "cell_type": "code",
   "execution_count": 420,
   "metadata": {
    "slideshow": {
     "slide_type": "-"
    }
   },
   "outputs": [
    {
     "data": {
      "text/plain": [
       "2×2 Matrix{Float64}:\n",
       " 1.0  2.0\n",
       " 2.0  4.0"
      ]
     },
     "execution_count": 420,
     "metadata": {},
     "output_type": "execute_result"
    }
   ],
   "source": [
    "x * x'  # outer product"
   ]
  },
  {
   "cell_type": "markdown",
   "metadata": {
    "slideshow": {
     "slide_type": "subslide"
    }
   },
   "source": [
    "### BLAS / LAPACK\n",
    "\n",
    "For real/complex numbers in `Float32`, `Float64` precision:\n",
    "* dense vector-vector, matrix-vector, matrix-matrix operations call BLAS\n",
    "* dense matrix factorizations call LAPACK\n",
    "\n",
    "You can also call BLAS/LAPACK functions directly"
   ]
  },
  {
   "cell_type": "code",
   "execution_count": 421,
   "metadata": {},
   "outputs": [
    {
     "data": {
      "text/plain": [
       "2×2 Matrix{Float64}:\n",
       " 4.0  4.0\n",
       " 0.0  4.0"
      ]
     },
     "execution_count": 421,
     "metadata": {},
     "output_type": "execute_result"
    }
   ],
   "source": [
    "C = zeros(2, 2);\n",
    "A = ones(2, 4);\n",
    "BLAS.syrk!('U', 'N', 1.0, A, 0.0, C)  # computes C = α A*A' + β C"
   ]
  },
  {
   "cell_type": "markdown",
   "metadata": {
    "slideshow": {
     "slide_type": "subslide"
    }
   },
   "source": [
    "### Sparse linear algebra"
   ]
  },
  {
   "cell_type": "code",
   "execution_count": 422,
   "metadata": {},
   "outputs": [],
   "source": [
    "using SparseArrays"
   ]
  },
  {
   "cell_type": "code",
   "execution_count": 423,
   "metadata": {},
   "outputs": [
    {
     "data": {
      "text/plain": [
       "3×3 SparseMatrixCSC{Float64, Int64} with 3 stored entries:\n",
       " 1.0   ⋅    ⋅ \n",
       "  ⋅   1.0   ⋅ \n",
       "  ⋅    ⋅   1.0"
      ]
     },
     "execution_count": 423,
     "metadata": {},
     "output_type": "execute_result"
    }
   ],
   "source": [
    "A = sparse([1, 2, 3], [1, 2, 3], [1.0, 1.0, 1.0])"
   ]
  },
  {
   "cell_type": "code",
   "execution_count": 424,
   "metadata": {},
   "outputs": [
    {
     "data": {
      "text/plain": [
       "3×3 Matrix{Float64}:\n",
       " 1.0  0.0  0.0\n",
       " 0.0  1.0  0.0\n",
       " 0.0  0.0  1.0"
      ]
     },
     "execution_count": 424,
     "metadata": {},
     "output_type": "execute_result"
    }
   ],
   "source": [
    "Matrix(A)"
   ]
  },
  {
   "cell_type": "markdown",
   "metadata": {},
   "source": [
    "Sparse factorization call the `CHOLMOD` module from `SuiteSparse`.\n",
    "\n",
    "Community wrappers to MUMPS, Pardiso, HSL linear solvers."
   ]
  },
  {
   "cell_type": "markdown",
   "metadata": {
    "slideshow": {
     "slide_type": "slide"
    }
   },
   "source": [
    "## Package management"
   ]
  },
  {
   "cell_type": "markdown",
   "metadata": {
    "slideshow": {
     "slide_type": "fragment"
    }
   },
   "source": [
    "Julia's package manager is `Pkg` (https://julialang.github.io/Pkg.jl/v1/)."
   ]
  },
  {
   "cell_type": "code",
   "execution_count": 425,
   "metadata": {},
   "outputs": [],
   "source": [
    "using Pkg"
   ]
  },
  {
   "cell_type": "markdown",
   "metadata": {},
   "source": [
    "Packages are organized into **environments**.\n",
    "\n",
    "An **environment** is a set of packages."
   ]
  },
  {
   "cell_type": "markdown",
   "metadata": {
    "slideshow": {
     "slide_type": "subslide"
    }
   },
   "source": [
    "### Install / remove packages"
   ]
  },
  {
   "cell_type": "markdown",
   "metadata": {},
   "source": [
    "Install a package with `Pkg.add`"
   ]
  },
  {
   "cell_type": "code",
   "execution_count": 426,
   "metadata": {},
   "outputs": [
    {
     "name": "stderr",
     "output_type": "stream",
     "text": [
      "\u001b[32m\u001b[1m   Resolving\u001b[22m\u001b[39m package versions...\n",
      "\u001b[32m\u001b[1m    Updating\u001b[22m\u001b[39m `~/Bureau/Angleterre/presentation/Project.toml`\n",
      " \u001b[90m [34c5aeac] \u001b[39m\u001b[92m+ HSL v0.3.5\u001b[39m\n",
      "\u001b[32m\u001b[1m    Updating\u001b[22m\u001b[39m `~/Bureau/Angleterre/presentation/Manifest.toml`\n",
      " \u001b[90m [34c5aeac] \u001b[39m\u001b[92m+ HSL v0.3.5\u001b[39m\n",
      " \u001b[90m [40b5814e] \u001b[39m\u001b[92m+ METIS4_jll v400.0.301+0\u001b[39m\n",
      "\u001b[33m⌅\u001b[39m\u001b[90m [656ef2d0] \u001b[39m\u001b[92m+ OpenBLAS32_jll v0.3.17+0\u001b[39m\n",
      "\u001b[36m\u001b[1m        Info\u001b[22m\u001b[39m Packages marked with \u001b[33m⌅\u001b[39m have new versions available but compatibility constraints restrict them from upgrading. To see why use `status --outdated -m`\n"
     ]
    }
   ],
   "source": [
    "Pkg.add(\"HSL\")"
   ]
  },
  {
   "cell_type": "markdown",
   "metadata": {
    "slideshow": {
     "slide_type": "subslide"
    }
   },
   "source": [
    "Update a package"
   ]
  },
  {
   "cell_type": "code",
   "execution_count": 427,
   "metadata": {},
   "outputs": [
    {
     "name": "stderr",
     "output_type": "stream",
     "text": [
      "\u001b[32m\u001b[1m    Updating\u001b[22m\u001b[39m registry at `~/.julia/registries/General.toml`\n",
      "\u001b[32m\u001b[1m  No Changes\u001b[22m\u001b[39m to `~/Bureau/Angleterre/presentation/Project.toml`\n",
      "\u001b[32m\u001b[1m  No Changes\u001b[22m\u001b[39m to `~/Bureau/Angleterre/presentation/Manifest.toml`\n"
     ]
    }
   ],
   "source": [
    "Pkg.update(\"HSL\")"
   ]
  },
  {
   "cell_type": "markdown",
   "metadata": {
    "slideshow": {
     "slide_type": "subslide"
    }
   },
   "source": [
    "Remove a package"
   ]
  },
  {
   "cell_type": "code",
   "execution_count": 428,
   "metadata": {},
   "outputs": [
    {
     "name": "stderr",
     "output_type": "stream",
     "text": [
      "\u001b[32m\u001b[1m    Updating\u001b[22m\u001b[39m `~/Bureau/Angleterre/presentation/Project.toml`\n",
      " \u001b[90m [34c5aeac] \u001b[39m\u001b[91m- HSL v0.3.5\u001b[39m\n",
      "\u001b[32m\u001b[1m    Updating\u001b[22m\u001b[39m `~/Bureau/Angleterre/presentation/Manifest.toml`\n",
      " \u001b[90m [34c5aeac] \u001b[39m\u001b[91m- HSL v0.3.5\u001b[39m\n",
      " \u001b[90m [40b5814e] \u001b[39m\u001b[91m- METIS4_jll v400.0.301+0\u001b[39m\n",
      " \u001b[90m [656ef2d0] \u001b[39m\u001b[91m- OpenBLAS32_jll v0.3.17+0\u001b[39m\n"
     ]
    }
   ],
   "source": [
    "Pkg.rm(\"HSL\")"
   ]
  },
  {
   "cell_type": "markdown",
   "metadata": {
    "slideshow": {
     "slide_type": "subslide"
    }
   },
   "source": [
    "### Projects and `Project.toml`"
   ]
  },
  {
   "cell_type": "markdown",
   "metadata": {},
   "source": [
    "> The project file describes the project on a high level, for example the package/project dependencies and compatibility constraints are listed in the project file.\n",
    "\n",
    "The `Project.toml` file contains the list of all packages in that environment and compatibility requirements (if any)."
   ]
  },
  {
   "cell_type": "code",
   "execution_count": 429,
   "metadata": {},
   "outputs": [
    {
     "name": "stdout",
     "output_type": "stream",
     "text": [
      "[deps]\n",
      "DoubleFloats = \"497a8b3b-efae-58df-a0af-a86822472b78\"\n",
      "HarwellRutherfordBoeing = \"ce388394-9b3f-5993-a911-eb95552e4f2e\"\n",
      "ILUZero = \"88f59080-6952-5380-9ea5-54057fb9a43f\"\n",
      "IncompleteLU = \"40713840-3770-5561-ab4c-a76e7d0d7895\"\n",
      "Krylov = \"ba0b0d4f-ebba-5204-a429-3ac8c609bfb7\"\n",
      "LimitedLDLFactorizations = \"f5a24dde-3ab7-510b-b81b-6a72c6098d3b\"\n",
      "LinearOperators = \"5c8ed15e-5a4c-59e4-a42b-c7e8811fb125\"\n",
      "MAT = \"23992714-dd62-5051-b70f-ba57cb901cac\"\n",
      "MatrixMarket = \"4d4711f2-db25-561a-b6b3-d35e7d4047d3\"\n",
      "Plots = \"91a5bcdd-55d7-5caf-9e0b-520d859cae80\"\n",
      "Quadmath = \"be4d8f0f-7fa4-5f49-b795-2f01399ab2dd\"\n",
      "SuiteSparseMatrixCollection = \"ac199af8-68bc-55b8-82c4-7abd6f96ed98\"\n",
      "UnicodePlots = \"b8865327-cd53-5732-bb35-84acbb429228\"\n"
     ]
    }
   ],
   "source": [
    "; cat Project.toml"
   ]
  },
  {
   "cell_type": "markdown",
   "metadata": {
    "slideshow": {
     "slide_type": "subslide"
    }
   },
   "source": [
    "### Package versions and `Manifest.toml`"
   ]
  },
  {
   "cell_type": "markdown",
   "metadata": {},
   "source": [
    "> The **exact set of packages and versions** in an environment is captured in a **manifest file** which can be checked into a project repository and tracked in version control\n",
    "\n",
    "The `Manifest.toml` file contains the **exact version** of every installed package, including all hidden dependencies.\n",
    "\n",
    "If your `Manifest.toml` file is the same, your package version are the same."
   ]
  },
  {
   "cell_type": "markdown",
   "metadata": {
    "slideshow": {
     "slide_type": "subslide"
    }
   },
   "source": [
    "### Working with environments"
   ]
  },
  {
   "cell_type": "markdown",
   "metadata": {},
   "source": [
    "From Julia: use `Pkg.activate`"
   ]
  },
  {
   "cell_type": "code",
   "execution_count": 430,
   "metadata": {},
   "outputs": [
    {
     "name": "stderr",
     "output_type": "stream",
     "text": [
      "\u001b[32m\u001b[1m  Activating\u001b[22m\u001b[39m project at `~/Bureau/Angleterre/presentation`\n"
     ]
    }
   ],
   "source": [
    "# activate environment located in current folder\n",
    "Pkg.activate(\".\")"
   ]
  },
  {
   "cell_type": "markdown",
   "metadata": {
    "slideshow": {
     "slide_type": "fragment"
    }
   },
   "source": [
    "When using Julia from the command line\n",
    "```bash\n",
    "julia --project=. script.jl\n",
    "```"
   ]
  },
  {
   "cell_type": "markdown",
   "metadata": {
    "slideshow": {
     "slide_type": "subslide"
    }
   },
   "source": [
    "### Re-using someone else's environment"
   ]
  },
  {
   "cell_type": "markdown",
   "metadata": {},
   "source": [
    "First download and install all packages"
   ]
  },
  {
   "cell_type": "code",
   "execution_count": 431,
   "metadata": {},
   "outputs": [
    {
     "name": "stderr",
     "output_type": "stream",
     "text": [
      "\u001b[32m\u001b[1m  Activating\u001b[22m\u001b[39m project at `~/Bureau/Angleterre/presentation`\n"
     ]
    }
   ],
   "source": [
    "Pkg.activate(\".\")  # activate environment\n",
    "Pkg.instantiate()  # download and install packages"
   ]
  },
  {
   "cell_type": "markdown",
   "metadata": {},
   "source": [
    "Good to go!"
   ]
  },
  {
   "cell_type": "markdown",
   "metadata": {
    "slideshow": {
     "slide_type": "slide"
    }
   },
   "source": [
    "## Code structure"
   ]
  },
  {
   "cell_type": "markdown",
   "metadata": {},
   "source": [
    "### When starting a new project\n",
    "\n",
    "* Create a new environment at the root of the repository\n",
    "* Use version control on `Project.toml` and `Manifest.toml`"
   ]
  },
  {
   "cell_type": "markdown",
   "metadata": {},
   "source": [
    "```\n",
    "--docs/\n",
    "--src/\n",
    "--test/\n",
    "Project.toml\n",
    "Manifest.toml\n",
    "README.md\n",
    "```"
   ]
  },
  {
   "cell_type": "markdown",
   "metadata": {
    "slideshow": {
     "slide_type": "slide"
    }
   },
   "source": [
    "## Code loading\n",
    "\n",
    "https://docs.julialang.org/en/v1/manual/code-loading/"
   ]
  },
  {
   "cell_type": "markdown",
   "metadata": {
    "slideshow": {
     "slide_type": "fragment"
    }
   },
   "source": [
    "### Code inclusion"
   ]
  },
  {
   "cell_type": "markdown",
   "metadata": {},
   "source": [
    "Code from a different file can be loaded"
   ]
  },
  {
   "cell_type": "code",
   "execution_count": 432,
   "metadata": {},
   "outputs": [
    {
     "name": "stdout",
     "output_type": "stream",
     "text": [
      "Hello world! Current time is 1.670491276946224e9s\n"
     ]
    }
   ],
   "source": [
    "include(\"hello.jl\")"
   ]
  },
  {
   "cell_type": "code",
   "execution_count": 433,
   "metadata": {},
   "outputs": [
    {
     "name": "stdout",
     "output_type": "stream",
     "text": [
      "Hello world! Current time is 1.670491278980637e9s\n"
     ]
    }
   ],
   "source": [
    "include(\"hello.jl\")"
   ]
  },
  {
   "cell_type": "markdown",
   "metadata": {},
   "source": [
    "This causes the contents of the file to be evaluated in the global scope.\n",
    "\n",
    "Your code gets executed every time you call `include`."
   ]
  },
  {
   "cell_type": "markdown",
   "metadata": {
    "slideshow": {
     "slide_type": "subslide"
    }
   },
   "source": [
    "### Package loading"
   ]
  },
  {
   "cell_type": "markdown",
   "metadata": {},
   "source": [
    "You can load packages with `import / using`"
   ]
  },
  {
   "cell_type": "code",
   "execution_count": 434,
   "metadata": {},
   "outputs": [
    {
     "data": {
      "text/plain": [
       "cg (generic function with 2 methods)"
      ]
     },
     "execution_count": 434,
     "metadata": {},
     "output_type": "execute_result"
    }
   ],
   "source": [
    "import Krylov\n",
    "cg"
   ]
  },
  {
   "cell_type": "code",
   "execution_count": 435,
   "metadata": {},
   "outputs": [
    {
     "data": {
      "text/plain": [
       "cg (generic function with 2 methods)"
      ]
     },
     "execution_count": 435,
     "metadata": {},
     "output_type": "execute_result"
    }
   ],
   "source": [
    "Krylov.cg"
   ]
  },
  {
   "cell_type": "markdown",
   "metadata": {
    "slideshow": {
     "slide_type": "subslide"
    }
   },
   "source": [
    "`using` allows you to use exported names in the current namespace"
   ]
  },
  {
   "cell_type": "code",
   "execution_count": 436,
   "metadata": {},
   "outputs": [
    {
     "data": {
      "text/plain": [
       "cg (generic function with 2 methods)"
      ]
     },
     "execution_count": 436,
     "metadata": {},
     "output_type": "execute_result"
    }
   ],
   "source": [
    "using Krylov\n",
    "cg"
   ]
  },
  {
   "cell_type": "markdown",
   "metadata": {
    "slideshow": {
     "slide_type": "slide"
    }
   },
   "source": [
    "## Compilation and timing"
   ]
  },
  {
   "cell_type": "markdown",
   "metadata": {
    "slideshow": {
     "slide_type": "fragment"
    }
   },
   "source": [
    "In Julia code is compiled **just-in-time** => some compilation happens while you execute your code.\n",
    "\n",
    "Be careful when timing code execution!"
   ]
  },
  {
   "cell_type": "code",
   "execution_count": 437,
   "metadata": {
    "slideshow": {
     "slide_type": "subslide"
    }
   },
   "outputs": [],
   "source": [
    "\"\"\"Compute the sum of the elements in a vector.\"\"\"\n",
    "function my_sum(u::Vector{T}) where{T}\n",
    "    s = zero(T)\n",
    "    for x in u\n",
    "        s += x\n",
    "    end\n",
    "    return s\n",
    "end\n",
    "\n",
    "u = [1, 2, 3, 4, 5, 6, 7, 8, 9, 10];\n",
    "v = [1.0, 2.0, 3.0, 4.0, 5.0, 6.0, 7.0, 8.0, 9.0, 10.0];"
   ]
  },
  {
   "cell_type": "markdown",
   "metadata": {
    "slideshow": {
     "slide_type": "subslide"
    }
   },
   "source": [
    "The first time a function is called, it is compiled.\n",
    "Subsequent calls are fast."
   ]
  },
  {
   "cell_type": "code",
   "execution_count": 438,
   "metadata": {},
   "outputs": [
    {
     "name": "stdout",
     "output_type": "stream",
     "text": [
      "  0.019466 seconds (4.04 k allocations: 198.443 KiB, 99.79% compilation time)\n",
      "  0.000005 seconds\n"
     ]
    },
    {
     "data": {
      "text/plain": [
       "55"
      ]
     },
     "execution_count": 438,
     "metadata": {},
     "output_type": "execute_result"
    }
   ],
   "source": [
    "@time my_sum(u)  # First time (with Int64): compilation happens\n",
    "@time my_sum(u)  # Second time: no compilation"
   ]
  },
  {
   "cell_type": "code",
   "execution_count": 439,
   "metadata": {},
   "outputs": [
    {
     "name": "stdout",
     "output_type": "stream",
     "text": [
      "  0.014424 seconds (4.04 k allocations: 197.123 KiB, 99.68% compilation time)\n",
      "  0.000006 seconds (1 allocation: 16 bytes)\n"
     ]
    },
    {
     "data": {
      "text/plain": [
       "55.0"
      ]
     },
     "execution_count": 439,
     "metadata": {},
     "output_type": "execute_result"
    }
   ],
   "source": [
    "@time my_sum(v)  # First time (with Float64): compilation happens\n",
    "@time my_sum(v)  # Second time: no compilation"
   ]
  },
  {
   "cell_type": "markdown",
   "metadata": {
    "slideshow": {
     "slide_type": "subslide"
    }
   },
   "source": [
    "### Timing code properly"
   ]
  },
  {
   "cell_type": "markdown",
   "metadata": {
    "slideshow": {
     "slide_type": "fragment"
    }
   },
   "source": [
    "If you only care about the result => compilation doesn't impact you."
   ]
  },
  {
   "cell_type": "markdown",
   "metadata": {
    "slideshow": {
     "slide_type": "fragment"
    }
   },
   "source": [
    "If you care about execution time => compilation does impact you.\n",
    "\n",
    "Possible fix:\n",
    "* Run your function twice, time only the second execution\n",
    "* Run your function on a small example, then on your real problem"
   ]
  },
  {
   "cell_type": "markdown",
   "metadata": {
    "slideshow": {
     "slide_type": "subslide"
    }
   },
   "source": [
    "### Command line execution\n",
    "\n",
    "Everytime you run\n",
    "```bash\n",
    "julia --project=. hello.jl\n",
    "```\n",
    "Julia has to re-compile a part of your code.\n",
    "\n",
    "Make sure what you're timing does not include compilation times!"
   ]
  }
 ],
 "metadata": {
  "celltoolbar": "Slideshow",
  "kernelspec": {
   "display_name": "Julia 1.8.3",
   "language": "julia",
   "name": "julia-1.8"
  },
  "language_info": {
   "file_extension": ".jl",
   "mimetype": "application/julia",
   "name": "julia",
   "version": "1.8.3"
  }
 },
 "nbformat": 4,
 "nbformat_minor": 2
}
